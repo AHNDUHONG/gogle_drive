{
  "nbformat": 4,
  "nbformat_minor": 0,
  "metadata": {
    "colab": {
      "name": "python_grammer02.ipynb",
      "provenance": [],
      "collapsed_sections": [],
      "authorship_tag": "ABX9TyOElNA5wuI58ZSr2XQsSoB7",
      "include_colab_link": true
    },
    "kernelspec": {
      "name": "python3",
      "display_name": "Python 3"
    },
    "language_info": {
      "name": "python"
    }
  },
  "cells": [
    {
      "cell_type": "markdown",
      "metadata": {
        "id": "view-in-github",
        "colab_type": "text"
      },
      "source": [
        "<a href=\"https://colab.research.google.com/github/AHNDUHONG/gogle_drive/blob/main/python_grammer02.ipynb\" target=\"_parent\"><img src=\"https://colab.research.google.com/assets/colab-badge.svg\" alt=\"Open In Colab\"/></a>"
      ]
    },
    {
      "cell_type": "markdown",
      "source": [
        "## 기초 문법 리뷰"
      ],
      "metadata": {
        "id": "OXsyEuRi9JWO"
      }
    },
    {
      "cell_type": "code",
      "source": [
        "# 리스트\n",
        "book_list = [\"A\",\"B\",\"C\"]\n",
        "# append, extend, insert, remove, pop, etc\n",
        "\n",
        "# 튜플\n",
        "book_tuple = (\"A\", \"B\", \"c\")\n",
        "# 수정 삭제가 불가능하다\n",
        "\n",
        "# 딕셔너리\n",
        "book_dictionary = {\"책 제목\" : [\"A\", \"B\"], \"출판년도\" :[2011, 2002]}\n",
        "# keys(), values(), items(), get()"
      ],
      "metadata": {
        "id": "nJj5F50G9Ns-"
      },
      "execution_count": null,
      "outputs": []
    },
    {
      "cell_type": "markdown",
      "source": [
        "## 조건문 & 반복문"
      ],
      "metadata": {
        "id": "0MNVvI8Y-QBE"
      }
    },
    {
      "cell_type": "code",
      "source": [
        "if True:\n",
        "  print(\"코드 실행\")\n",
        "elif True:\n",
        "  print(\"코드 실행\")\n",
        "else:\n",
        "  print(\"코드 실행\")"
      ],
      "metadata": {
        "id": "ajlX5yMg-VIk"
      },
      "execution_count": null,
      "outputs": []
    },
    {
      "cell_type": "code",
      "source": [
        "for i in range(3):\n",
        "  print(i+1, \"안녕하세요\")"
      ],
      "metadata": {
        "colab": {
          "base_uri": "https://localhost:8080/"
        },
        "id": "z0vB5uA6-hQH",
        "outputId": "2ba53b19-6216-4ffc-9f03-fb39ae350a57"
      },
      "execution_count": null,
      "outputs": [
        {
          "output_type": "stream",
          "name": "stdout",
          "text": [
            "1 안녕하세요\n",
            "2 안녕하세요\n",
            "3 안녕하세요\n"
          ]
        }
      ]
    },
    {
      "cell_type": "code",
      "source": [
        "book_list = [\"프로그래밍 R\", \"혼자 공부하는 머신러닝\"]\n",
        "for book in book_list:\n",
        "  print(book)"
      ],
      "metadata": {
        "colab": {
          "base_uri": "https://localhost:8080/"
        },
        "id": "QZUIFx4_-5E0",
        "outputId": "6a0a7122-e292-4e93-aec0-cf1d1ed604d1"
      },
      "execution_count": null,
      "outputs": [
        {
          "output_type": "stream",
          "name": "stdout",
          "text": [
            "프로그래밍 R\n",
            "혼자 공부하는 머신러닝\n"
          ]
        }
      ]
    },
    {
      "cell_type": "code",
      "source": [
        "strings01 = \"Hello World\"\n",
        "for char in strings01:\n",
        "  print(char)"
      ],
      "metadata": {
        "colab": {
          "base_uri": "https://localhost:8080/"
        },
        "id": "z_Fl2Ic9_PYs",
        "outputId": "33658861-222b-4716-ed7b-7ada09e09cd0"
      },
      "execution_count": null,
      "outputs": [
        {
          "output_type": "stream",
          "name": "stdout",
          "text": [
            "H\n",
            "e\n",
            "l\n",
            "l\n",
            "o\n",
            " \n",
            "W\n",
            "o\n",
            "r\n",
            "l\n",
            "d\n"
          ]
        }
      ]
    },
    {
      "cell_type": "code",
      "source": [
        "num_tuple = (1, 2, 3, 4)\n",
        "for num in num_tuple:\n",
        "  print(num)"
      ],
      "metadata": {
        "colab": {
          "base_uri": "https://localhost:8080/"
        },
        "id": "Abxud93n_i1f",
        "outputId": "72cbd229-78d9-4453-baf4-4972945d979d"
      },
      "execution_count": null,
      "outputs": [
        {
          "output_type": "stream",
          "name": "stdout",
          "text": [
            "1\n",
            "2\n",
            "3\n",
            "4\n"
          ]
        }
      ]
    },
    {
      "cell_type": "code",
      "source": [
        "num_dict = {\"A\" : 1, \"B\" : 2}\n",
        "for num in num_dict:\n",
        "  # print(num) # keys 값이 나옴, value값이 아니라.\n",
        "  print(num_dict[num])"
      ],
      "metadata": {
        "colab": {
          "base_uri": "https://localhost:8080/"
        },
        "id": "5vqQMIXu_vvW",
        "outputId": "423b3b5f-9a3b-44cc-b4e4-2c7edd59bdd5"
      },
      "execution_count": null,
      "outputs": [
        {
          "output_type": "stream",
          "name": "stdout",
          "text": [
            "1\n",
            "2\n"
          ]
        }
      ]
    },
    {
      "cell_type": "markdown",
      "source": [
        "## 반복문의 필요성"
      ],
      "metadata": {
        "id": "kip52zv6AmCN"
      }
    },
    {
      "cell_type": "code",
      "source": [
        "product_name = [\"요구르트\", \"우유\", \"과자\"]\n",
        "prices = [1000, 1500, 2000]\n",
        "quantities = [5, 3, 4]\n",
        "a = [1, 2, 3]\n",
        "# name = product_name[0]\n",
        "# sales = prices[0] * quantities[0]\n",
        "# print(name + \"의 매출액은\" + str(sales) + \"원이다.\")\n",
        "\n",
        "# name = product_name[1]\n",
        "# sales = prices[1] * quantities[1]\n",
        "# print(name + \"의 매출액은\" + str(sales) + \"원이다.\")\n",
        "\n",
        "# 위 코드의 반복문 코드 작성 필요 절감\n",
        "for i in range(len(product_name)):\n",
        "  name = product_name[i]\n",
        "  sales = prices[i] * quantities[i]\n",
        "  print(name + \"의 매출액은\" + str(sales) + \"원이다.\")"
      ],
      "metadata": {
        "colab": {
          "base_uri": "https://localhost:8080/"
        },
        "id": "B6LnURmiAoFu",
        "outputId": "22f6c65f-f581-42da-e083-2182502cef63"
      },
      "execution_count": null,
      "outputs": [
        {
          "output_type": "stream",
          "name": "stdout",
          "text": [
            "요구르트의 매출액은5000원이다.\n",
            "우유의 매출액은4500원이다.\n",
            "과자의 매출액은8000원이다.\n"
          ]
        }
      ]
    },
    {
      "cell_type": "markdown",
      "source": [
        "## while\n",
        "- 조건식이 들어간 반복문"
      ],
      "metadata": {
        "id": "nGgOF7YtJmMc"
      }
    },
    {
      "cell_type": "code",
      "source": [
        "count = 1\n",
        "while count <= 5:\n",
        "  print(\"안녕하세요..\")\n",
        "  count += 1\n",
        "  print(count)\n",
        "\n",
        "print(\"5 초과 했군요..\")"
      ],
      "metadata": {
        "colab": {
          "base_uri": "https://localhost:8080/"
        },
        "id": "_PQ3TG35J5y3",
        "outputId": "c218683a-3a42-46ff-a360-c21cf73f5fc5"
      },
      "execution_count": null,
      "outputs": [
        {
          "output_type": "stream",
          "name": "stdout",
          "text": [
            "안녕하세요..\n",
            "2\n",
            "안녕하세요..\n",
            "3\n",
            "안녕하세요..\n",
            "4\n",
            "안녕하세요..\n",
            "5\n",
            "안녕하세요..\n",
            "6\n",
            "5 초과 했군요..\n"
          ]
        }
      ]
    },
    {
      "cell_type": "code",
      "source": [
        "count = 3\n",
        "while count > 0:\n",
        "  print(\"안녕하세요..\")\n",
        "  count -= 1\n",
        "  print(count)"
      ],
      "metadata": {
        "colab": {
          "base_uri": "https://localhost:8080/"
        },
        "id": "XxB2NRIwL24G",
        "outputId": "d851b7ab-ba35-4d98-8140-f3bf9089de40"
      },
      "execution_count": null,
      "outputs": [
        {
          "output_type": "stream",
          "name": "stdout",
          "text": [
            "안녕하세요..\n",
            "2\n",
            "안녕하세요..\n",
            "1\n",
            "안녕하세요..\n",
            "0\n"
          ]
        }
      ]
    },
    {
      "cell_type": "markdown",
      "source": [
        "## 리스트 컴프리헨션\n",
        "- for-loop 반복문을 한줄로 처리"
      ],
      "metadata": {
        "id": "BZDuhnoFXYsJ"
      }
    },
    {
      "cell_type": "code",
      "source": [
        "my_list = [[10], [20, 30]]\n",
        "# print(my_list)\n",
        "\n",
        "flattened_list = []\n",
        "for value_list in my_list:\n",
        "  # print(value_list)\n",
        "  for value in value_list:\n",
        "    # print(value)\n",
        "    flattened_list.append(value)\n",
        "\n",
        "print(flattened_list)\n",
        "# 결괏값 : [10, 20 ,30]"
      ],
      "metadata": {
        "colab": {
          "base_uri": "https://localhost:8080/"
        },
        "id": "IRGte3oKXuOx",
        "outputId": "11951429-14d7-4862-b294-e28feef2e1ae"
      },
      "execution_count": null,
      "outputs": [
        {
          "output_type": "stream",
          "name": "stdout",
          "text": [
            "[10]\n",
            "[20, 30]\n",
            "[10, 20, 30]\n"
          ]
        }
      ]
    },
    {
      "cell_type": "code",
      "source": [
        "my_list = [[10], [20, 30]]\n",
        "flattened_list = [value for value_list in my_list for value in value_list]\n",
        "print(flattened_list)"
      ],
      "metadata": {
        "colab": {
          "base_uri": "https://localhost:8080/"
        },
        "id": "8lUUe_oFYlfd",
        "outputId": "78030745-99e6-45f3-ba01-cbb948643fe9"
      },
      "execution_count": null,
      "outputs": [
        {
          "output_type": "stream",
          "name": "stdout",
          "text": [
            "[10, 20, 30]\n"
          ]
        }
      ]
    },
    {
      "cell_type": "code",
      "source": [
        "letters = []\n",
        "for char in \"helloworld\":\n",
        "  letters.append(char)\n",
        "print(letters)"
      ],
      "metadata": {
        "colab": {
          "base_uri": "https://localhost:8080/"
        },
        "id": "zJMzSTYTZQLF",
        "outputId": "774f0ee6-6d60-4da7-d39b-153d86c335d4"
      },
      "execution_count": null,
      "outputs": [
        {
          "output_type": "stream",
          "name": "stdout",
          "text": [
            "['h', 'e', 'l', 'l', 'o', 'w', 'o', 'r', 'l', 'd']\n"
          ]
        }
      ]
    },
    {
      "cell_type": "code",
      "source": [
        "letters2 = [char for char in \"helloworld\"]\n",
        "print(letters2)"
      ],
      "metadata": {
        "colab": {
          "base_uri": "https://localhost:8080/"
        },
        "id": "kG2CaK-SZbTC",
        "outputId": "3407e227-8eeb-47fe-ad61-8cffac8db593"
      },
      "execution_count": null,
      "outputs": [
        {
          "output_type": "stream",
          "name": "stdout",
          "text": [
            "['h', 'e', 'l', 'l', 'o', 'w', 'o', 'r', 'l', 'd']\n"
          ]
        }
      ]
    },
    {
      "cell_type": "markdown",
      "source": [
        "## 사용자 정의 함수 (User-Defined Function)\n"
      ],
      "metadata": {
        "id": "kltyFaBwM13k"
      }
    },
    {
      "cell_type": "code",
      "source": [
        "def 함수명():\n",
        "  # 코드 실행\n",
        "  return 값\n",
        "\n",
        "함수명()"
      ],
      "metadata": {
        "id": "dYMPR9aBOBv4"
      },
      "execution_count": null,
      "outputs": []
    },
    {
      "cell_type": "markdown",
      "source": [
        "- basic.py로 저장할떄, 예시"
      ],
      "metadata": {
        "id": "lGq0dAhbQlvA"
      }
    },
    {
      "cell_type": "code",
      "source": [
        "# /user/local/bin/python\n",
        "# -*- coding: utf-8 -*-\n",
        "def temp(content, letter):\n",
        "  \"\"\"content안에 있는 문자를 세는 함수입니다.\n",
        "  \n",
        "  Args:\n",
        "    content(str) : 탐색 문자열\n",
        "    letter(str) : 찾을 문자열\n",
        "\n",
        "  Returns:\n",
        "    int\n",
        "  \"\"\"\n",
        "\n",
        "  print(\"함수 테스트\")\n",
        "\n",
        "  cnt = len([char for char in content if char == letter])\n",
        "  return cnt\n",
        "\n",
        "if __name__ == \"__main__\":\n",
        "  help(temp)\n",
        "  docstring = temp.__doc__ # docstring 문서화\n",
        "  print(docstring)"
      ],
      "metadata": {
        "colab": {
          "base_uri": "https://localhost:8080/"
        },
        "id": "N0WMPW14OJyt",
        "outputId": "c9334c9f-43c5-4ffc-ec38-7727a597159b"
      },
      "execution_count": null,
      "outputs": [
        {
          "output_type": "stream",
          "name": "stdout",
          "text": [
            "Help on function temp in module __main__:\n",
            "\n",
            "temp(content, letter)\n",
            "    content안에 있는 문자를 세는 함수입니다.\n",
            "    \n",
            "    Args:\n",
            "      content(str) : 탐색 문자열\n",
            "      letter(str) : 찾을 문자열\n",
            "    \n",
            "    Returns:\n",
            "      int\n",
            "\n",
            "content안에 있는 문자를 세는 함수입니다.\n",
            "  \n",
            "  Args:\n",
            "    content(str) : 탐색 문자열\n",
            "    letter(str) : 찾을 문자열\n",
            "\n",
            "  Returns:\n",
            "    int\n",
            "  \n"
          ]
        }
      ]
    },
    {
      "cell_type": "code",
      "source": [
        "value_list = [1, 2, 3, 4, 5, 6]\n",
        "print(\"avg:\", sum(value_list) / len(value_list))\n",
        "\n",
        "# 중간값\n",
        "midpoint = int(len(value_list) / 2)\n",
        "# len(value_list) % 2 == 0:\n",
        "print((value_list[midpoint - 1] + value_list[midpoint]) / 2)\n",
        "print(value_list[midpoint])\n",
        "\n",
        "def mean_and_median(value_list):\n",
        "  \"\"\" 숫자 리스트 요소들의 평균과 중간값을 구하는 코드를 작성해라\n",
        "  Args:\n",
        "    value_list (iterable of int / float): A list of int numbers\n",
        "  \n",
        "  Return:\n",
        "    tuple(float, float)\n",
        "  \"\"\"\n",
        "  # 평균\n",
        "  mean = sum(value_list) / len(value_list)\n",
        "  # 중간값\n",
        "  midpoint = int(len(value_list) / 2)\n",
        "  if len(value_list) % 2 == 0:\n",
        "    median = (value_list[midpoint - 1] + value_list[midpoint]) / 2\n",
        "  else:\n",
        "    median = value_list[midpoint]\n",
        "\n",
        "  return mean, median\n",
        "\n",
        "if __name__ == \"__main__\":\n",
        "  value_lists = [1, 1, 2, 2, 3, 4, 5]\n",
        "  avg, median = mean_and_median(value_lists)\n",
        "  print(\"avg:\", avg)\n",
        "  print(\"median:\", median)"
      ],
      "metadata": {
        "colab": {
          "base_uri": "https://localhost:8080/"
        },
        "id": "MZ611JHMaP6C",
        "outputId": "14fd5376-62ad-4acc-891b-2a3b2f169205"
      },
      "execution_count": null,
      "outputs": [
        {
          "output_type": "stream",
          "name": "stdout",
          "text": [
            "avg: 3.5\n",
            "3.5\n",
            "4\n",
            "avg: 2.5714285714285716\n",
            "median: 2\n"
          ]
        }
      ]
    },
    {
      "cell_type": "markdown",
      "source": [
        "- 데코레이터, 변수명 immutable or mutable\n",
        "context manager"
      ],
      "metadata": {
        "id": "vtRW869nsV54"
      }
    },
    {
      "cell_type": "markdown",
      "source": [
        "## 함수 클로저 사용하기"
      ],
      "metadata": {
        "id": "sHtY9A71uYgL"
      }
    },
    {
      "cell_type": "markdown",
      "source": [
        "- global 함수 (전역 변수 변경)"
      ],
      "metadata": {
        "id": "LVwnjsQGugr0"
      }
    },
    {
      "cell_type": "code",
      "source": [
        "x = 10\n",
        "def foo():\n",
        "  x = 20\n",
        "  print(x)\n",
        "\n",
        "print(x)\n",
        "foo()"
      ],
      "metadata": {
        "colab": {
          "base_uri": "https://localhost:8080/"
        },
        "id": "TK6XpRBhushM",
        "outputId": "1e09b204-4f32-448c-a5ea-8fc0884b49ef"
      },
      "execution_count": null,
      "outputs": [
        {
          "output_type": "stream",
          "name": "stdout",
          "text": [
            "10\n",
            "20\n"
          ]
        }
      ]
    },
    {
      "cell_type": "code",
      "source": [
        "x = 10\n",
        "def foo():\n",
        "  global x # 전역 변수를 설정하겠다\n",
        "  x = 20\n",
        "  print(x)\n",
        "\n",
        "print(x)\n",
        "foo()"
      ],
      "metadata": {
        "colab": {
          "base_uri": "https://localhost:8080/"
        },
        "id": "mVdVLzrCu49a",
        "outputId": "6c68dc0d-739b-4838-8774-3d294f5327bd"
      },
      "execution_count": null,
      "outputs": [
        {
          "output_type": "stream",
          "name": "stdout",
          "text": [
            "10\n",
            "20\n"
          ]
        },
        {
          "output_type": "execute_result",
          "data": {
            "text/plain": [
              "{'In': ['',\n",
              "  'for i in range(3):\\n  print(i+1, \"안녕하세요\")',\n",
              "  'book_list = [\"프로그래밍 R\", \"혼자 공부하는 머신러닝\"]\\nfor i in book_list:\\n  print(i)',\n",
              "  'book_list = [\"프로그래밍 R\", \"혼자 공부하는 머신러닝\"]\\nfor book in book_list:\\n  print(book)',\n",
              "  'strings01 = \"Hello World\"\\nfor char in strings01:\\n  print(char)',\n",
              "  'num_tuple = (1, 2, 3, 4)\\nfor num in num_tuple:\\n  print(num)',\n",
              "  'num_dict = {\"A\" : 1, \"B\" : 2}\\nfor num in num_dict:\\n  print(num)',\n",
              "  'num_dict = {\"A\" : 1, \"B\" : 2}\\nfor num in num_dict:\\n  # print(num) # keys 값이 나옴, value값이 아니라.\\n  print(num_dict[num])',\n",
              "  'product_name = [\"요구르트\", \"우유\"]\\nprices = [1000, 1500]\\nquantities = [5, 3]\\n\\nname = product_name[0]\\nsales = prices[0] * quantities[0]\\nprint(name + \"의 매출액은\" + str(sales) + \"원이다.\")\\n\\nname = product_name[1]\\nsales = prices[1] * quantities[1]\\nprint(name + \"의 매출액은\" + str(sales) + \"원이다.\")',\n",
              "  'for i in range(product_name):\\n  print(i)',\n",
              "  'for i in (product_name):\\n  print(i)',\n",
              "  'for i in len(product_name):\\n  print(i)',\n",
              "  'for i in range(product_name):\\n  print(i)',\n",
              "  'for i in len(product_name):\\n  print(i)',\n",
              "  'int for i in len(product_name):\\n  print(i)',\n",
              "  'int i for i in len(product_name):\\n  print(i)',\n",
              "  'for i in product_name:\\n  sales = prices[i] * quantities[i]\\n  print(sales) ',\n",
              "  'product_name = [\"요구르트\", \"우유\"]\\nprices = [1000, 1500]\\nquantities = [5, 3]\\n\\nfor i in product_name:\\n  sales = prices[i] * quantities[i]\\n  print(sales) ',\n",
              "  'product_name = [\"요구르트\", \"우유\"]\\nprices = [1000, 1500]\\nquantities = [5, 3]\\n\\nfor i in len(product_name):\\n  sales = prices[i] * quantities[i]\\n  print(sales) ',\n",
              "  'product_name = [\"요구르트\", \"우유\"]\\nprices = [1000, 1500]\\nquantities = [5, 3]\\n\\nfor i in range(product_name):\\n  sales = prices[i] * quantities[i]\\n  print(sales) ',\n",
              "  'product_name = [\"요구르트\", \"우유\"]\\nprices = [1000, 1500]\\nquantities = [5, 3]\\n\\nfor i in len(product_name):\\n  sales = prices[i] * quantities[i]\\n  print(sales) ',\n",
              "  'product_name = [\"요구르트\", \"우유\"]\\nprices = [1000, 1500]\\nquantities = [5, 3]\\n\\nfor i in len(product_name):\\n  sales = prices[i] * quantities[i]\\n  print(sales) ',\n",
              "  'product_name = [\"요구르트\", \"우유\"]\\nprices = [1000, 1500]\\nquantities = [5, 3]\\n\\nfor i in len(int(product_name)):\\n  sales = prices[i] * quantities[i]\\n  print(sales) ',\n",
              "  'product_name = [\"요구르트\", \"우유\"]\\nprices = [1000, 1500]\\nquantities = [5, 3]\\nlen = len(product_name)\\n\\nfor i in len:\\n  sales = prices[i] * quantities[i]\\n  print(sales) ',\n",
              "  'product_name = [\"요구르트\", \"우유\"]\\nprices = [1000, 1500]\\nquantities = [5, 3]\\nlen = len(product_name)\\nsales = [len]\\nfor i in len:\\n  sales = prices[i] * quantities[i]\\n  print(sales) ',\n",
              "  'product_name = [\"요구르트\", \"우유\"]\\nprices = [1000, 1500]\\nquantities = [5, 3]\\nlen = len(product_name)\\nsales = []\\nfor i in len:\\n  sales = prices[i] * quantities[i]\\n  print(sales) ',\n",
              "  'product_name = [\"요구르트\", \"우유\", \"과자\"]\\nprices = [1000, 1500, 2000]\\nquantities = [5, 3, 4]\\n\\nname = product_name[0]\\nsales = prices[0] * quantities[0]\\nprint(name + \"의 매출액은\" + str(sales) + \"원이다.\")\\n\\nname = product_name[1]\\nsales = prices[1] * quantities[1]\\nprint(name + \"의 매출액은\" + str(sales) + \"원이다.\")\\n\\n# 위 코드의 반복문 코드 작성 필요 절감\\nfor i in range(product_name):\\n  print(i)',\n",
              "  'product_name = [\"요구르트\", \"우유\", \"과자\"]\\nprices = [1000, 1500, 2000]\\nquantities = [5, 3, 4]\\n\\nname = product_name[0]\\nsales = prices[0] * quantities[0]\\nprint(name + \"의 매출액은\" + str(sales) + \"원이다.\")\\n\\nname = product_name[1]\\nsales = prices[1] * quantities[1]\\nprint(name + \"의 매출액은\" + str(sales) + \"원이다.\")\\n\\n# 위 코드의 반복문 코드 작성 필요 절감\\nfor i in range(len(product_name)):\\n  name = product_name[i]\\n  sales = prices[i] * quantities[i]\\n  print(name + \"의 매출액은\" + str(sales) + \"원이다.\")',\n",
              "  'product_name = [\"요구르트\", \"우유\", \"과자\"]\\nprices = [1000, 1500, 2000]\\nquantities = [5, 3, 4]\\n\\nname = product_name[0]\\nsales = prices[0] * quantities[0]\\nprint(name + \"의 매출액은\" + str(sales) + \"원이다.\")\\n\\nname = product_name[1]\\nsales = prices[1] * quantities[1]\\nprint(name + \"의 매출액은\" + str(sales) + \"원이다.\")\\n\\n# 위 코드의 반복문 코드 작성 필요 절감\\nfor i in range(len(product_name)):\\n  name = product_name[i]\\n  sales = prices[i] * quantities[i]\\n  print(name + \"의 매출액은\" + str(sales) + \"원이다.\")',\n",
              "  'product_name = [\"요구르트\", \"우유\", \"과자\"]\\nprices = [1000, 1500, 2000]\\nquantities = [5, 3, 4]\\n\\nname = product_name[0]\\nsales = prices[0] * quantities[0]\\nprint(name + \"의 매출액은\" + str(sales) + \"원이다.\")\\n\\nname = product_name[1]\\nsales = prices[1] * quantities[1]\\nprint(name + \"의 매출액은\" + str(sales) + \"원이다.\")\\n\\n# 위 코드의 반복문 코드 작성 필요 절감\\nfor i in range(len[product_name]):\\n  name = product_name[i]\\n  sales = prices[i] * quantities[i]\\n  print(name + \"의 매출액은\" + str(sales) + \"원이다.\")',\n",
              "  'product_name = [\"요구르트\", \"우유\", \"과자\"]\\nprices = [1000, 1500, 2000]\\nquantities = [5, 3, 4]\\n\\nname = product_name[0]\\nsales = prices[0] * quantities[0]\\nprint(name + \"의 매출액은\" + str(sales) + \"원이다.\")\\n\\nname = product_name[1]\\nsales = prices[1] * quantities[1]\\nprint(name + \"의 매출액은\" + str(sales) + \"원이다.\")\\n\\n# 위 코드의 반복문 코드 작성 필요 절감\\nfor i in range(len(product_name)):\\n  name = product_name[i]\\n  sales = prices[i] * quantities[i]\\n  print(name + \"의 매출액은\" + str(sales) + \"원이다.\")',\n",
              "  'product_name = [\"요구르트\", \"우유\", \"과자\"]\\nprices = [1000, 1500, 2000]\\nquantities = [5, 3, 4]\\n\\n# name = product_name[0]\\n# sales = prices[0] * quantities[0]\\n# print(name + \"의 매출액은\" + str(sales) + \"원이다.\")\\n\\n# name = product_name[1]\\n# sales = prices[1] * quantities[1]\\n# print(name + \"의 매출액은\" + str(sales) + \"원이다.\")\\n\\n# 위 코드의 반복문 코드 작성 필요 절감\\nfor i in range(len(product_name)):\\n  name = product_name[i]\\n  sales = prices[i] * quantities[i]\\n  print(name + \"의 매출액은\" + str(sales) + \"원이다.\")',\n",
              "  'product_name = [\"요구르트\", \"우유\", \"과자\"]\\nprices = [1000, 1500, 2000]\\nquantities = [5, 3, 4]\\nprint(len(product_name))\\n# name = product_name[0]\\n# sales = prices[0] * quantities[0]\\n# print(name + \"의 매출액은\" + str(sales) + \"원이다.\")\\n\\n# name = product_name[1]\\n# sales = prices[1] * quantities[1]\\n# print(name + \"의 매출액은\" + str(sales) + \"원이다.\")\\n\\n# 위 코드의 반복문 코드 작성 필요 절감\\nfor i in range(len(product_name)):\\n  name = product_name[i]\\n  sales = prices[i] * quantities[i]\\n  print(name + \"의 매출액은\" + str(sales) + \"원이다.\")',\n",
              "  'product_name = [\"요구르트\", \"우유\", \"과자\"]\\nprices = [1000, 1500, 2000]\\nquantities = [5, 3, 4]\\nprint(len(product_name))\\n# name = product_name[0]\\n# sales = prices[0] * quantities[0]\\n# print(name + \"의 매출액은\" + str(sales) + \"원이다.\")\\n\\n# name = product_name[1]\\n# sales = prices[1] * quantities[1]\\n# print(name + \"의 매출액은\" + str(sales) + \"원이다.\")\\n\\n# 위 코드의 반복문 코드 작성 필요 절감\\n# for i in range(len(product_name)):\\n#   name = product_name[i]\\n#   sales = prices[i] * quantities[i]\\n#   print(name + \"의 매출액은\" + str(sales) + \"원이다.\")',\n",
              "  'product_name = [\"요구르트\", \"우유\", \"과자\"]\\nprices = [1000, 1500, 2000]\\nquantities = [5, 3, 4]\\nprint(product_name)\\n# name = product_name[0]\\n# sales = prices[0] * quantities[0]\\n# print(name + \"의 매출액은\" + str(sales) + \"원이다.\")\\n\\n# name = product_name[1]\\n# sales = prices[1] * quantities[1]\\n# print(name + \"의 매출액은\" + str(sales) + \"원이다.\")\\n\\n# 위 코드의 반복문 코드 작성 필요 절감\\n# for i in range(len(product_name)):\\n#   name = product_name[i]\\n#   sales = prices[i] * quantities[i]\\n#   print(name + \"의 매출액은\" + str(sales) + \"원이다.\")',\n",
              "  'product_name = [\"요구르트\", \"우유\", \"과자\"]\\nprices = [1000, 1500, 2000]\\nquantities = [5, 3, 4]\\nprint(len(product_name))\\n# name = product_name[0]\\n# sales = prices[0] * quantities[0]\\n# print(name + \"의 매출액은\" + str(sales) + \"원이다.\")\\n\\n# name = product_name[1]\\n# sales = prices[1] * quantities[1]\\n# print(name + \"의 매출액은\" + str(sales) + \"원이다.\")\\n\\n# 위 코드의 반복문 코드 작성 필요 절감\\n# for i in range(len(product_name)):\\n#   name = product_name[i]\\n#   sales = prices[i] * quantities[i]\\n#   print(name + \"의 매출액은\" + str(sales) + \"원이다.\")',\n",
              "  'product_name = [\"요구르트\", \"우유\", \"과자\"]\\nprices = [1000, 1500, 2000]\\nquantities = [5, 3, 4]\\nprint(len(product_name))\\n# name = product_name[0]\\n# sales = prices[0] * quantities[0]\\n# print(name + \"의 매출액은\" + str(sales) + \"원이다.\")\\n\\n# name = product_name[1]\\n# sales = prices[1] * quantities[1]\\n# print(name + \"의 매출액은\" + str(sales) + \"원이다.\")\\n\\n# 위 코드의 반복문 코드 작성 필요 절감\\n# for i in range(len(product_name)):\\n#   name = product_name[i]\\n#   sales = prices[i] * quantities[i]\\n#   print(name + \"의 매출액은\" + str(sales) + \"원이다.\")',\n",
              "  'product_name = [\"요구르트\", \"우유\", \"과자\"]\\nprices = [1000, 1500, 2000]\\nquantities = [5, 3, 4]\\nprint(len(product_name))\\n# name = product_name[0]\\n# sales = prices[0] * quantities[0]\\n# print(name + \"의 매출액은\" + str(sales) + \"원이다.\")\\n\\n# name = product_name[1]\\n# sales = prices[1] * quantities[1]\\n# print(name + \"의 매출액은\" + str(sales) + \"원이다.\")\\n\\n# 위 코드의 반복문 코드 작성 필요 절감\\n# for i in range(len(product_name)):\\n#   name = product_name[i]\\n#   sales = prices[i] * quantities[i]\\n#   print(name + \"의 매출액은\" + str(sales) + \"원이다.\")',\n",
              "  'product_name = [\"요구르트\", \"우유\", \"과자\"]\\nprices = [1000, 1500, 2000]\\nquantities = [5, 3, 4]\\nprint(len(prices))\\n# name = product_name[0]\\n# sales = prices[0] * quantities[0]\\n# print(name + \"의 매출액은\" + str(sales) + \"원이다.\")\\n\\n# name = product_name[1]\\n# sales = prices[1] * quantities[1]\\n# print(name + \"의 매출액은\" + str(sales) + \"원이다.\")\\n\\n# 위 코드의 반복문 코드 작성 필요 절감\\n# for i in range(len(product_name)):\\n#   name = product_name[i]\\n#   sales = prices[i] * quantities[i]\\n#   print(name + \"의 매출액은\" + str(sales) + \"원이다.\")',\n",
              "  'count = 1\\nwhile count < 5:\\n  count += 1\\n  print(count)',\n",
              "  'product_name = [\"요구르트\", \"우유\", \"과자\"]\\nprices = [1000, 1500, 2000]\\nquantities = [5, 3, 4]\\nprint(len(prices))',\n",
              "  'count = 1\\nwhile count <= 5:\\n  print(\"안녕하세요..\")\\n  count += 1\\n  print(count)\\n\\nprint(\"5 초과 했군요..\")',\n",
              "  'product_name = [\"요구르트\", \"우유\", \"과자\"]\\nprices = [1000, 1500, 2000]\\nquantities = [5, 3, 4]\\nprint(len(product_name))\\n# name = product_name[0]\\n# sales = prices[0] * quantities[0]\\n# print(name + \"의 매출액은\" + str(sales) + \"원이다.\")\\n\\n# name = product_name[1]\\n# sales = prices[1] * quantities[1]\\n# print(name + \"의 매출액은\" + str(sales) + \"원이다.\")\\n\\n# 위 코드의 반복문 코드 작성 필요 절감\\n# for i in range(len(product_name)):\\n#   name = product_name[i]\\n#   sales = prices[i] * quantities[i]\\n#   print(name + \"의 매출액은\" + str(sales) + \"원이다.\")',\n",
              "  'product_name = [\"요구르트\", \"우유\", \"과자\"]\\nprices = [1000, 1500, 2000]\\nquantities = [5, 3, 4]\\nprint(len[1, 2, 3])\\n# name = product_name[0]\\n# sales = prices[0] * quantities[0]\\n# print(name + \"의 매출액은\" + str(sales) + \"원이다.\")\\n\\n# name = product_name[1]\\n# sales = prices[1] * quantities[1]\\n# print(name + \"의 매출액은\" + str(sales) + \"원이다.\")\\n\\n# 위 코드의 반복문 코드 작성 필요 절감\\n# for i in range(len(product_name)):\\n#   name = product_name[i]\\n#   sales = prices[i] * quantities[i]\\n#   print(name + \"의 매출액은\" + str(sales) + \"원이다.\")',\n",
              "  'product_name = [\"요구르트\", \"우유\", \"과자\"]\\nprices = [1000, 1500, 2000]\\nquantities = [5, 3, 4]\\nprint(type(product_name))\\n# name = product_name[0]\\n# sales = prices[0] * quantities[0]\\n# print(name + \"의 매출액은\" + str(sales) + \"원이다.\")\\n\\n# name = product_name[1]\\n# sales = prices[1] * quantities[1]\\n# print(name + \"의 매출액은\" + str(sales) + \"원이다.\")\\n\\n# 위 코드의 반복문 코드 작성 필요 절감\\n# for i in range(len(product_name)):\\n#   name = product_name[i]\\n#   sales = prices[i] * quantities[i]\\n#   print(name + \"의 매출액은\" + str(sales) + \"원이다.\")',\n",
              "  'product_name = [\"요구르트\", \"우유\", \"과자\"]\\nprices = [1000, 1500, 2000]\\nquantities = [5, 3, 4]\\nprint(len(product_name))\\n# name = product_name[0]\\n# sales = prices[0] * quantities[0]\\n# print(name + \"의 매출액은\" + str(sales) + \"원이다.\")\\n\\n# name = product_name[1]\\n# sales = prices[1] * quantities[1]\\n# print(name + \"의 매출액은\" + str(sales) + \"원이다.\")\\n\\n# 위 코드의 반복문 코드 작성 필요 절감\\n# for i in range(len(product_name)):\\n#   name = product_name[i]\\n#   sales = prices[i] * quantities[i]\\n#   print(name + \"의 매출액은\" + str(sales) + \"원이다.\")',\n",
              "  'count = 3\\nwhile count > 0:\\n  print(\"안녕하세요..\")\\n  count -= 1\\n  print(count)',\n",
              "  'product_name = [\"요구르트\", \"우유\", \"과자\"]\\nprices = [1000, 1500, 2000]\\nquantities = [5, 3, 4]\\na = [1, 2, 3]\\nprint(len(a))\\n# name = product_name[0]\\n# sales = prices[0] * quantities[0]\\n# print(name + \"의 매출액은\" + str(sales) + \"원이다.\")\\n\\n# name = product_name[1]\\n# sales = prices[1] * quantities[1]\\n# print(name + \"의 매출액은\" + str(sales) + \"원이다.\")\\n\\n# 위 코드의 반복문 코드 작성 필요 절감\\n# for i in range(len(product_name)):\\n#   name = product_name[i]\\n#   sales = prices[i] * quantities[i]\\n#   print(name + \"의 매출액은\" + str(sales) + \"원이다.\")',\n",
              "  'product_name = [\"요구르트\", \"우유\", \"과자\"]\\nprices = [1000, 1500, 2000]\\nquantities = [5, 3, 4]\\na = [1, 2, 3]\\nprint(1)\\n# name = product_name[0]\\n# sales = prices[0] * quantities[0]\\n# print(name + \"의 매출액은\" + str(sales) + \"원이다.\")\\n\\n# name = product_name[1]\\n# sales = prices[1] * quantities[1]\\n# print(name + \"의 매출액은\" + str(sales) + \"원이다.\")\\n\\n# 위 코드의 반복문 코드 작성 필요 절감\\n# for i in range(len(product_name)):\\n#   name = product_name[i]\\n#   sales = prices[i] * quantities[i]\\n#   print(name + \"의 매출액은\" + str(sales) + \"원이다.\")',\n",
              "  'product_name = [\"요구르트\", \"우유\", \"과자\"]\\nprices = [1000, 1500, 2000]\\nquantities = [5, 3, 4]\\na = [1, 2, 3]\\nprint(len(a))\\n# name = product_name[0]\\n# sales = prices[0] * quantities[0]\\n# print(name + \"의 매출액은\" + str(sales) + \"원이다.\")\\n\\n# name = product_name[1]\\n# sales = prices[1] * quantities[1]\\n# print(name + \"의 매출액은\" + str(sales) + \"원이다.\")\\n\\n# 위 코드의 반복문 코드 작성 필요 절감\\n# for i in range(len(product_name)):\\n#   name = product_name[i]\\n#   sales = prices[i] * quantities[i]\\n#   print(name + \"의 매출액은\" + str(sales) + \"원이다.\")',\n",
              "  'product_name = [\"요구르트\", \"우유\", \"과자\"]\\nprices = [1000, 1500, 2000]\\nquantities = [5, 3, 4]\\na = [1, 2, 3]\\ndel len\\nprint(len(a))\\n# name = product_name[0]\\n# sales = prices[0] * quantities[0]\\n# print(name + \"의 매출액은\" + str(sales) + \"원이다.\")\\n\\n# name = product_name[1]\\n# sales = prices[1] * quantities[1]\\n# print(name + \"의 매출액은\" + str(sales) + \"원이다.\")\\n\\n# 위 코드의 반복문 코드 작성 필요 절감\\n# for i in range(len(product_name)):\\n#   name = product_name[i]\\n#   sales = prices[i] * quantities[i]\\n#   print(name + \"의 매출액은\" + str(sales) + \"원이다.\")',\n",
              "  'product_name = [\"요구르트\", \"우유\", \"과자\"]\\nprices = [1000, 1500, 2000]\\nquantities = [5, 3, 4]\\na = [1, 2, 3]\\ndel len\\nprint(len(product_name))\\n# name = product_name[0]\\n# sales = prices[0] * quantities[0]\\n# print(name + \"의 매출액은\" + str(sales) + \"원이다.\")\\n\\n# name = product_name[1]\\n# sales = prices[1] * quantities[1]\\n# print(name + \"의 매출액은\" + str(sales) + \"원이다.\")\\n\\n# 위 코드의 반복문 코드 작성 필요 절감\\n# for i in range(len(product_name)):\\n#   name = product_name[i]\\n#   sales = prices[i] * quantities[i]\\n#   print(name + \"의 매출액은\" + str(sales) + \"원이다.\")',\n",
              "  'product_name = [\"요구르트\", \"우유\", \"과자\"]\\nprices = [1000, 1500, 2000]\\nquantities = [5, 3, 4]\\na = [1, 2, 3]\\nprint(len(product_name))\\n# name = product_name[0]\\n# sales = prices[0] * quantities[0]\\n# print(name + \"의 매출액은\" + str(sales) + \"원이다.\")\\n\\n# name = product_name[1]\\n# sales = prices[1] * quantities[1]\\n# print(name + \"의 매출액은\" + str(sales) + \"원이다.\")\\n\\n# 위 코드의 반복문 코드 작성 필요 절감\\n# for i in range(len(product_name)):\\n#   name = product_name[i]\\n#   sales = prices[i] * quantities[i]\\n#   print(name + \"의 매출액은\" + str(sales) + \"원이다.\")',\n",
              "  'product_name = [\"요구르트\", \"우유\", \"과자\"]\\nprices = [1000, 1500, 2000]\\nquantities = [5, 3, 4]\\na = [1, 2, 3]\\n# name = product_name[0]\\n# sales = prices[0] * quantities[0]\\n# print(name + \"의 매출액은\" + str(sales) + \"원이다.\")\\n\\n# name = product_name[1]\\n# sales = prices[1] * quantities[1]\\n# print(name + \"의 매출액은\" + str(sales) + \"원이다.\")\\n\\n# 위 코드의 반복문 코드 작성 필요 절감\\nfor i in range(len(product_name)):\\n  name = product_name[i]\\n  sales = prices[i] * quantities[i]\\n  print(name + \"의 매출액은\" + str(sales) + \"원이다.\")',\n",
              "  'def add(a, b):\\n  c = a + b\\n  return c\\n\\nadd(1, 2)',\n",
              "  'def subtraction(a, b):\\n  c = a - b\\n  return C\\n\\nsubtraction(4, 3)',\n",
              "  'def subtraction(a, b):\\n  c = a - b\\n  return c\\n\\nsubtraction(4, 3)',\n",
              "  'def add(a, b):\\n  c = a + b\\n  return c\\n\\nadd(1, 2)\\n\\ndef subtraction(a, b):\\n  c = a - b\\n  return c\\n\\nsubtraction(4, 3)',\n",
              "  'def multiplication(a, b):\\n  c = a * b\\n  return c\\n\\nmultiplication(1, 3)',\n",
              "  'def multiplication(a, b):\\n  c = a * b\\n  return c\\n\\nmultiplication(5, 3)',\n",
              "  'def division(a, b):\\n  c = a / b\\n  return c\\n\\ndivision(15,5)',\n",
              "  'def add(a, b):\\n  c = a + b\\n  return c\\n\\nadd(1, 2)\\n\\ndef subtraction(a, b):\\n  c = a - b\\n  return c\\n\\nsubtraction(4, 3)',\n",
              "  'def add(a, b):\\n  c = a + b\\n  return c\\n\\nadd(1, 2)\\n\\ndef subtraction(a, b):\\n  c = a - b\\n  return c\\n\\nsubtraction(4, 3)',\n",
              "  '# /user/local/bin/python\\n\\n\\ndef add(a, b):\\n  c = a + b\\n  return c\\n\\nif __name__ == \"__main__\":\\n  a = 1\\n  b = 2\\n  c = add(a, b)\\n  print(c)',\n",
              "  '# /user/local/bin/python\\n\\n\\ndef add(a, b):\\n  \"\"\"a와 b를 합산하는 함수입니다.\"\"\"\\n  c = a + b\\n  return c\\n\\nif __name__ == \"__main__\":\\n  a = 1\\n  b = 2\\n  c = add(a, b)\\n  print(c)\\n  help(add(a, b))',\n",
              "  '# /user/local/bin/python\\n\\n\\ndef add_number(a, b):\\n  \"\"\"a와 b를 합산하는 함수입니다.\"\"\"\\n  c = a + b\\n  return c\\n\\nif __name__ == \"__main__\":\\n  a = 1\\n  b = 2\\n  c = add_number(a, b)\\n  print(c)\\n  helpadd_number(a, b)',\n",
              "  '# /user/local/bin/python\\n\\n\\ndef add_number(a, b):\\n  \"\"\"a와 b를 합산하는 함수입니다.\"\"\"\\n  c = a + b\\n  return c\\n\\nif __name__ == \"__main__\":\\n  a = 1\\n  b = 2\\n  c = add_number(a, b)\\n  print(c)\\n  help(add_number(a, b))',\n",
              "  '# /user/local/bin/python\\n\\n\\ndef temp(a, b):\\n  \"\"\"a와 b를 합산하는 함수입니다.\"\"\"\\n  print(\"함수 테스트\")\\n  return None\\n\\nif __name__ == \"__main__\":\\n  help(temp())',\n",
              "  '# /user/local/bin/python\\n\\n\\ndef temp():\\n  \"\"\"a와 b를 합산하는 함수입니다.\"\"\"\\n  print(\"함수 테스트\")\\n  return None\\n\\nif __name__ == \"__main__\":\\n  help(temp())',\n",
              "  '# /user/local/bin/python\\n\\n\\ndef temp(content, letter):\\n  \"\"\"content안에 있는 문자를 세는 함수입니다.\\n  \\n  Args:\\n    content(str) : 탐색 문자열\\n    letter(str) : 찾을 문자열\\n\\n  Returns:\\n    int\\n  \"\"\"\\n\\n  print(\"함수 테스트\")\\n\\n  cnt = len([char for char in content if char == letter])\\n  return cnt\\n\\nif __name__ == \"__main__\":\\n  help(temp)',\n",
              "  '# /user/local/bin/python\\n\\n# docstring\\ndef temp(content, letter):\\n  \"\"\"content안에 있는 문자를 세는 함수입니다.\\n  \\n  Args:\\n    content(str) : 탐색 문자열\\n    letter(str) : 찾을 문자열\\n\\n  Returns:\\n    int\\n  \"\"\"\\n\\n  print(\"함수 테스트\")\\n\\n  cnt = len([char for char in content if char == letter])\\n  return cnt\\n\\nif __name__ == \"__main__\":\\n  help(temp)\\n  docstring = temp.__doc__\\n  print(docstring)',\n",
              "  'my_list = [[10], [20, 30]]\\nprint(my_list)',\n",
              "  'my_list = [[10], [20, 30]]\\nprint(my_list)\\n\\nfor value_list in my_list:\\n  print(value_list)\\n\\n# 결괏값 : [10, 20 ,30]',\n",
              "  'my_list = [[10], [20, 30]]\\n# print(my_list)\\n\\nflattened_list = []\\nfor value_list in my_list:\\n  print(value_list)\\n  for value in value_list:\\n    print(value)\\n    # flattened_list.append(value)\\n# 결괏값 : [10, 20 ,30]',\n",
              "  'my_list = [[10], [20, 30]]\\n# print(my_list)\\n\\nflattened_list = []\\nfor value_list in my_list:\\n  # print(value_list)\\n  for value in value_list:\\n    print(value)\\n    # flattened_list.append(value)\\n# 결괏값 : [10, 20 ,30]',\n",
              "  'my_list = [[10], [20, 30]]\\n# print(my_list)\\n\\nflattened_list = []\\nfor value_list in my_list:\\n  # print(value_list)\\n  for value in value_list:\\n    print(value)\\n    flattened_list.append(value)\\n\\nprint(flattened_list)\\n# 결괏값 : [10, 20 ,30]',\n",
              "  'my_list = [[10], [20, 30]]\\n# print(my_list)\\n\\nflattened_list = []\\nfor value_list in my_list:\\n  print(value_list)\\n  for value in value_list:\\n    # print(value)\\n    flattened_list.append(value)\\n\\n# print(flattened_list)\\n# 결괏값 : [10, 20 ,30]',\n",
              "  'my_list = [[10], [20, 30]]\\n# print(my_list)\\n\\nflattened_list = []\\nfor value_list in my_list:\\n  # print(value_list)\\n  for value in value_list:\\n    print(value)\\n    flattened_list.append(value)\\n\\n# print(flattened_list)\\n# 결괏값 : [10, 20 ,30]',\n",
              "  'my_list = [[10], [20, 30]]\\nflattened_list = [value for value_list in my_list for value in value_list]\\nprint(flattened_list)',\n",
              "  'letters = []\\nfor char in \"helloworld\":\\n  letters.append(char)\\nprint(letters)',\n",
              "  'letters2 = [char for char in \"helloworld\":]\\nprint(letters2)',\n",
              "  'letters2 = [char for char in \"helloworld\"]\\nprint(letters2)',\n",
              "  'value_list = [1, 2, 3, 4, 5]\\nprint(sum(value_list))',\n",
              "  'value_list = [1, 2, 3, 4, 5]\\nprint(sum(value_list) / len(value_list))',\n",
              "  'value_list = [1, 2, 3, 4, 5]\\nprint(\"avg: \", sum(value_list) / len(value_list))',\n",
              "  'value_list = [1, 2, 3, 4, 5]\\nprint(\"avg:\", sum(value_list) / len(value_list))',\n",
              "  'value_list = [1, 2, 3, 4, 5]\\nprint(\"avg:\", sum(value_list) / len(value_list))\\n# 중간값\\n\\nmidpoint = int(len(value_list) / 2)\\nprint(midpoint)',\n",
              "  'value_list = [1, 2, 3, 4, 5, 6]\\nprint(\"avg:\", sum(value_list) / len(value_list))\\n# 중간값\\n\\nmidpoint = int(len(value_list) / 2)\\n# len(value_list) % 2 == 0:\\n(value_list[midpoint - 1] + value_list[midpoint]) / 2\\nprint(midpoint)',\n",
              "  'value_list = [1, 2, 3, 4, 5, 6]\\nprint(\"avg:\", sum(value_list) / len(value_list))\\n# 중간값\\n\\nmidpoint = int(len(value_list) / 2)\\n# len(value_list) % 2 == 0:\\nprint((value_list[midpoint - 1] + value_list[midpoint]) / 2)\\nprint(midpoint)',\n",
              "  'value_list = [1, 2, 3, 4, 5, 6]\\nprint(\"avg:\", sum(value_list) / len(value_list))\\n# 중간값\\n\\nmidpoint = int(len(value_list) / 2)\\n# len(value_list) % 2 == 0:\\nprint((value_list[midpoint - 1] + value_list[midpoint]) / 2)\\nprint(value_list[midpoint])',\n",
              "  'value_list = [1, 2, 3, 4, 5, 6]\\nprint(\"avg:\", sum(value_list) / len(value_list))\\n# 중간값\\n\\nmidpoint = int(len(value_list) / 2)\\n# len(value_list) % 2 == 0:\\nprint((value_list[midpoint - 1] + value_list[midpoint]) / 2)\\nprint(value_list[midpoint])\\n\\ndef mean_and_median(value_lish):\\n  \"\"\" 숫자 리스트 요소들의 평균과 중간값을 구하는 코드를 작성해라\\n  Args:\\n    value_list (iterable of int / float): A list of int numbers\\n  \\n  Returns:\\n    tuple(float, float)\\n  \"\"\"\\n  # 평균\\n  mean = sum(values) / len(values)\\n  # 중간값\\n  midpoint = int(len(value_list) / 2) / 2)\\n  if len(value_list) % 2 == 0:\\n    median = (values[midpoint - 1] + value_list[midpoint]) / 2\\n  else:\\n    median = value_list[midpoint]\\n\\n  return mean, median',\n",
              "  'value_list = [1, 2, 3, 4, 5, 6]\\nprint(\"avg:\", sum(value_list) / len(value_list))\\n# 중간값\\n\\nmidpoint = int(len(value_list) / 2)\\n# len(value_list) % 2 == 0:\\nprint((value_list[midpoint - 1] + value_list[midpoint]) / 2)\\nprint(value_list[midpoint])\\n\\ndef mean_and_median(value_list):\\n  \"\"\" 숫자 리스트 요소들의 평균과 중간값을 구하는 코드를 작성해라\\n  Args:\\n    value_list (iterable of int / float): A list of int numbers\\n  \\n  Returns:\\n    tuple(float, float)\\n  \"\"\"\\n  # 평균\\n  mean = sum(values) / len(values)\\n  # 중간값\\n  midpoint = int(len(value_list) / 2) / 2)\\n  if len(value_list) % 2 == 0:\\n    median = (values[midpoint - 1] + value_list[midpoint]) / 2\\n  else:\\n    median = value_list[midpoint]\\n\\n  return mean, median\\n\\nif __name__ == \"__main__\":\\n  value_list = [1, 1, 2, 2, 3, 4, 5]\\n  avg, median = mean_and_median(value_list)\\n  print(\"avg:\", avg)\\n  print(\"median:\", median)',\n",
              "  'value_list = [1, 2, 3, 4, 5, 6]\\nprint(\"avg:\", sum(value_list) / len(value_list))\\n# 중간값\\n\\nmidpoint = int(len(value_list) / 2)\\n# len(value_list) % 2 == 0:\\nprint((value_list[midpoint - 1] + value_list[midpoint]) / 2)\\nprint(value_list[midpoint])\\n\\ndef mean_and_median(value_list):\\n  \"\"\" 숫자 리스트 요소들의 평균과 중간값을 구하는 코드를 작성해라\\n  Args:\\n    value_list (iterable of int / float): A list of int numbers\\n  \\n  Returns:\\n    tuple(float, float)\\n  \"\"\"\\n  # 평균\\n  mean = sum(values) / len(values)\\n  # 중간값\\n  midpoint = int(len(value_list) / 2)\\n  if len(value_list) % 2 == 0:\\n    median = (values[midpoint - 1] + value_list[midpoint]) / 2\\n  else:\\n    median = value_list[midpoint]\\n\\n  return mean, median\\n\\nif __name__ == \"__main__\":\\n  value_list = [1, 1, 2, 2, 3, 4, 5]\\n  avg, median = mean_and_median(value_list)\\n  print(\"avg:\", avg)\\n  print(\"median:\", median)',\n",
              "  'value_list = [1, 2, 3, 4, 5, 6]\\nprint(\"avg:\", sum(value_list) / len(value_list))\\n# 중간값\\n\\nmidpoint = int(len(value_list) / 2)\\n# len(value_list) % 2 == 0:\\nprint((value_list[midpoint - 1] + value_list[midpoint]) / 2)\\nprint(value_list[midpoint])\\n\\ndef mean_and_median(value_list):\\n  \"\"\" 숫자 리스트 요소들의 평균과 중간값을 구하는 코드를 작성해라\\n  Args:\\n    value_list (iterable of int / float): A list of int numbers\\n  \\n  Returns:\\n    tuple(float, float)\\n  \"\"\"\\n  # 평균\\n  mean = sum(value_list) / len(value_list)\\n  # 중간값\\n  midpoint = int(len(value_list) / 2)\\n  if len(value_list) % 2 == 0:\\n    median = (values[midpoint - 1] + value_list[midpoint]) / 2\\n  else:\\n    median = value_list[midpoint]\\n\\n  return mean, median\\n\\nif __name__ == \"__main__\":\\n  value_list = [1, 1, 2, 2, 3, 4, 5]\\n  avg, median = mean_and_median(value_list)\\n  print(\"avg:\", avg)\\n  print(\"median:\", median)',\n",
              "  'value_list = [1, 2, 3, 4, 5, 6]\\nprint(sum(value_list))\\n# print(\"avg:\", sum(value_list) / len(value_list))\\n# 중간값\\n\\nmidpoint = int(len(value_list) / 2)\\n# len(value_list) % 2 == 0:\\nprint((value_list[midpoint - 1] + value_list[midpoint]) / 2)\\nprint(value_list[midpoint])\\n\\ndef mean_and_median(value_list):\\n  \"\"\" 숫자 리스트 요소들의 평균과 중간값을 구하는 코드를 작성해라\\n  Args:\\n    value_list (iterable of int / float): A list of int numbers\\n  \\n  Returns:\\n    tuple(float, float)\\n  \"\"\"\\n  # 평균\\n  mean = sum(value_list) / len(value_list)\\n  # 중간값\\n  midpoint = int(len(value_list) / 2)\\n  if len(value_list) % 2 == 0:\\n    median = (values[midpoint - 1] + value_list[midpoint]) / 2\\n  else:\\n    median = value_list[midpoint]\\n\\n  return mean, median\\n\\nif __name__ == \"__main__\":\\n  value_list = [1, 1, 2, 2, 3, 4, 5]\\n  avg, median = mean_and_median(value_list)\\n  print(\"avg:\", avg)\\n  print(\"median:\", median)',\n",
              "  'value_list = [1, 2, 3, 4, 5, 6]\\nprint(\"avg:\", sum(value_list) / len(value_list))\\n\\n# 중간값\\nmidpoint = int(len(value_list) / 2)\\n# len(value_list) % 2 == 0:\\nprint((value_list[midpoint - 1] + value_list[midpoint]) / 2)\\nprint(value_list[midpoint])\\n\\ndef mean_and_median(value_list):\\n  \"\"\" 숫자 리스트 요소들의 평균과 중간값을 구하는 코드를 작성해라\\n  Args:\\n    value_list (iterable of int / float): A list of int numbers\\n  \\n  Returns:\\n    tuple(float, float)\\n  \"\"\"\\n  # 평균\\n  mean = sum(value_list) / len(value_list)\\n  # 중간값\\n  midpoint = int(len(value_list) / 2)\\n  if len(value_list) % 2 == 0:\\n    median = (values[midpoint - 1] + value_list[midpoint]) / 2\\n  else:\\n    median = value_list[midpoint]\\n\\n  return mean, median\\n\\nif __name__ == \"__main__\":\\n  value_list = [1, 1, 2, 2, 3, 4, 5]\\n  avg, median = mean_and_median(value_list)\\n  print(\"avg:\", avg)\\n  print(\"median:\", median)',\n",
              "  'value_list = [1, 2, 3, 4, 5, 6]\\nprint(\"avg:\", sum(value_list) / len(value_list))\\n\\n# 중간값\\nmidpoint = int(len(value_list) / 2)\\n# len(value_list) % 2 == 0:\\nprint((value_list[midpoint - 1] + value_list[midpoint]) / 2)\\nprint(value_list[midpoint])\\n\\ndef mean_and_median(value_list):\\n  \"\"\" 숫자 리스트 요소들의 평균과 중간값을 구하는 코드를 작성해라\\n  Args:\\n    value_list (iterable of int / float): A list of int numbers\\n  \\n  Returns:\\n    tuple(float, float)\\n  \"\"\"\\n  # 평균\\n  mean = sum(value_list) / len(value_list)\\n  # 중간값\\n  midpoint = int(len(value_list) / 2)\\n  if len(value_list) % 2 == 0:\\n    median = (value_list[midpoint - 1] + value_list[midpoint]) / 2\\n  else:\\n    median = value_list[midpoint]\\n\\n  return mean, median\\n\\nif __name__ == \"__main__\":\\n  value_list = [1, 1, 2, 2, 3, 4, 5]\\n  avg, median = mean_and_median(value_list)\\n  print(\"avg:\", avg)\\n  print(\"median:\", median)',\n",
              "  'students = [1, 2, 3, 4, 5, 6, 7, 8]\\nprint(\"avg:\", sum(students) / len(students))',\n",
              "  'value_list = [1, 2, 3, 4, 5, 6, 7, 8, 9]\\nprint(\"avg:\", sum(value_list) / len(value_list))',\n",
              "  'value_list = [1, 2, 3, 4, 5, 6, 7, 8, 9]\\nprint(\"avg:\", sum(value_list) / len(value_list))\\n\\nmidpoint = value_list[len(value_list)]\\nprint(midpoint)',\n",
              "  'value_list = [1, 2, 3, 4, 5, 6, 7, 8, 9]\\nprint(\"avg:\", sum(value_list) / len(value_list))\\n\\nmidpoint = value_list[len(value_list) / 2]\\nprint(midpoint)',\n",
              "  'value_list = [1, 2, 3, 4, 5, 6, 7, 8, 9]\\nprint(\"avg:\", sum(value_list) / len(value_list))\\n\\nmidpoint = int(len(value_list) / 2)\\nprint(midpoint)',\n",
              "  'value_list = [1, 2, 3, 4, 5, 6, 7, 8, 9]\\nprint(\"avg:\", sum(value_list) / len(value_list))\\n\\nmidpoint = int(len(value_list) / 2)\\nprint(midpoint)\\n\\ndef mean_and_median(value_list):\\n  \"\"\" 숫자 리스트 요소들의 평균값과 중간값을 구하는 코드를 작성해라 \\n  \\n  Args:\\n    value_list (iterable of int / float): A list of int numbers\\n\\n  Returns:\\n    tuple(float, float)\\n  \"\"\"\\n  # 평균\\n  mean = sum(value_list) / len(value_list)\\n  print(mean)',\n",
              "  'value_list = [1, 2, 3, 4, 5, 6, 7, 8, 9]\\n# print(\"avg:\", sum(value_list) / len(value_list))\\n\\nmidpoint = int(len(value_list) / 2)\\n# print(midpoint)\\n\\ndef mean_and_median(value_list):\\n  \"\"\" 숫자 리스트 요소들의 평균값과 중간값을 구하는 코드를 작성해라 \\n  \\n  Args:\\n    value_list (iterable of int / float): A list of int numbers\\n\\n  Returns:\\n    tuple(float, float)\\n  \"\"\"\\n  # 평균\\n  mean = sum(value_list) / len(value_list)\\n  print(mean)',\n",
              "  'value_list = [1, 2, 3, 4, 5, 6, 7, 8, 9]\\n# print(\"avg:\", sum(value_list) / len(value_list))\\n\\nmidpoint = int(len(value_list) / 2)\\n# print(midpoint)\\n\\ndef mean_and_median(value_list):\\n  \"\"\" 숫자 리스트 요소들의 평균값과 중간값을 구하는 코드를 작성해라 \\n  \\n  Args:\\n    value_list (iterable of int / float): A list of int numbers\\n\\n  Returns:\\n    tuple(float, float)\\n  \"\"\"\\n  # 평균\\n  mean = sum(value_list) / len(value_list)\\n  # 중간값\\n  median = len(value_list) / 2',\n",
              "  'value_list = [1, 2, 3, 4, 5, 6, 7, 8, 9]\\n# print(\"avg:\", sum(value_list) / len(value_list))\\n\\nmidpoint = int(len(value_list) / 2)\\n# print(midpoint)\\n\\ndef mean_and_median(value_list):\\n  \"\"\" 숫자 리스트 요소들의 평균값과 중간값을 구하는 코드를 작성해라 \\n  \\n  Args:\\n    value_list (iterable of int / float): A list of int numbers\\n\\n  Returns:\\n    tuple(float, float)\\n  \"\"\"\\n  # 평균\\n  mean = sum(value_list) / len(value_list)\\n  # 중간값\\n  midpoint = int(len(value_list) / 2)\\n  if len(value_list) % 2 == 0:\\n    median = (value_list[midpoint-1] + value_list[midpoint]) / 2\\n  else:\\n    median = value_list[midpoint]\\n  \\n  return mean , median\\n  ',\n",
              "  'value_list = [1, 2, 3, 4, 5, 6]\\nprint(\"avg:\", sum(value_list) / len(value_list))\\n\\n# 중간값\\nmidpoint = int(len(value_list) / 2)\\n# len(value_list) % 2 == 0:\\nprint((value_list[midpoint - 1] + value_list[midpoint]) / 2)\\nprint(value_list[midpoint])\\n\\ndef mean_and_median(value_list):\\n  \"\"\" 숫자 리스트 요소들의 평균과 중간값을 구하는 코드를 작성해라\\n  Args:\\n    value_list (iterable of int / float): A list of int numbers\\n  \\n  Return:\\n    tuple(float, float)\\n  \"\"\"\\n  # 평균\\n  mean = sum(value_list) / len(value_list)\\n  # 중간값\\n  midpoint = int(len(value_list) / 2)\\n  if len(value_list) % 2 == 0:\\n    median = (value_list[midpoint - 1] + value_list[midpoint]) / 2\\n  else:\\n    median = value_list[midpoint]\\n\\n  return mean, median\\n\\nif __name__ == \"__main__\":\\n  value_lists = [1, 1, 2, 2, 3, 4, 5]\\n  avg, median = mean_and_median(value_lists)\\n  print(\"avg:\", avg)\\n  print(\"median:\", median)',\n",
              "  'value_list = [1, 2, 3, 4, 5, 6, 7, 8, 9]\\n# print(\"avg:\", sum(value_list) / len(value_list))\\n\\nmidpoint = int(len(value_list) / 2)\\n# print(midpoint)\\n\\ndef mean_and_median(value_list):\\n  \"\"\" 숫자 리스트 요소들의 평균값과 중간값을 구하는 코드를 작성해라 \\n  \\n  Args:\\n    value_list (iterable of int / float): A list of int numbers\\n\\n  Returns:\\n    tuple(float, float)\\n  \"\"\"\\n  # 평균\\n  mean = sum(value_list) / len(value_list)\\n  # 중간값\\n  midpoint = int(len(value_list) / 2)\\n  if len(value_list) % 2 == 0:\\n    median = (value_list[midpoint-1] + value_list[midpoint]) / 2\\n  else:\\n    median = value_list[midpoint]\\n  \\n  return mean , median\\n\\nif __name__ == \"__main__\":\\n  value_lists = [1,1,2,3,5,5]\\n  avg, median = mean_and_median(value_lists)\\n  print(\"avg:\", avg)\\n  print(\"median:\", median)',\n",
              "  'value_list = [1, 2, 3, 4, 5, 6, 7, 8, 9]\\n# print(\"avg:\", sum(value_list) / len(value_list))\\n\\nmidpoint = int(len(value_list) / 2)\\n# print(midpoint)\\n\\ndef mean_and_median(value_list):\\n  \"\"\" 숫자 리스트 요소들의 평균값과 중간값을 구하는 코드를 작성해라 \\n  \\n  Args:\\n    value_list (iterable of int / float): A list of int numbers\\n\\n  Returns:\\n    tuple(float, float)\\n  \"\"\"\\n  # 평균\\n  mean = sum(value_list) / len(value_list)\\n  # 중간값\\n  midpoint = int(len(value_list) / 2)\\n  if len(value_list) % 2 == 0:\\n    median = (value_list[midpoint-1] + value_list[midpoint]) / 2\\n  else:\\n    median = value_list[midpoint]\\n  \\n  return mean , median\\n\\nif __name__ == \"__main__\":\\n  value_list = [1,1,2,3,5,5]\\n  avg, median = mean_and_median(value_list)\\n  print(\"avg:\", avg)\\n  print(\"median:\", median)',\n",
              "  'my_list = [[10], [20, 30]]\\n# print(my_list)\\n\\nflattened_list = []\\nfor value_list in my_list:\\n  print(value_list)\\n  for value in value_list:\\n    # print(value)\\n    flattened_list.append(value)\\n\\nprint(flattened_list)\\n# 결괏값 : [10, 20 ,30]',\n",
              "  'x = 10\\ndef foo():\\n  x = 20\\n  print(x)\\n\\nprint(x)',\n",
              "  'x = 10\\ndef foo():\\n  x = 20\\n  print(x)\\n\\nprint(x)\\nfoo()',\n",
              "  'x = 10\\ndef foo():\\n  x = 20\\n  global x\\n  print(x)\\n\\nprint(x)\\nfoo()',\n",
              "  'x = 10\\ndef foo():\\n  global x\\n  x = 20\\n  print(x)\\n\\nprint(x)\\nfoo()',\n",
              "  'x = 10\\ndef foo():\\n  global x # 전역 변수를 설정하겠다\\n  x = 20\\n  print(x)\\n\\nprint(x)\\nfoo()\\nlocals()'],\n",
              " 'Out': {54: 3, 56: 1, 57: 1, 58: 3, 59: 15, 60: 3.0, 61: 1, 62: 1},\n",
              " '_': 1,\n",
              " '_54': 3,\n",
              " '_56': 1,\n",
              " '_57': 1,\n",
              " '_58': 3,\n",
              " '_59': 15,\n",
              " '_60': 3.0,\n",
              " '_61': 1,\n",
              " '_62': 1,\n",
              " '__': 1,\n",
              " '___': 3.0,\n",
              " '__builtin__': <module 'builtins' (built-in)>,\n",
              " '__builtins__': <module 'builtins' (built-in)>,\n",
              " '__doc__': 'Automatically created module for IPython interactive environment',\n",
              " '__loader__': None,\n",
              " '__name__': '__main__',\n",
              " '__package__': None,\n",
              " '__spec__': None,\n",
              " '_dh': ['/content'],\n",
              " '_i': 'x = 10\\ndef foo():\\n  global x\\n  x = 20\\n  print(x)\\n\\nprint(x)\\nfoo()',\n",
              " '_i1': 'for i in range(3):\\n  print(i+1, \"안녕하세요\")',\n",
              " '_i10': 'for i in (product_name):\\n  print(i)',\n",
              " '_i100': 'value_list = [1, 2, 3, 4, 5, 6, 7, 8, 9]\\nprint(\"avg:\", sum(value_list) / len(value_list))\\n\\nmidpoint = value_list[len(value_list) / 2]\\nprint(midpoint)',\n",
              " '_i101': 'value_list = [1, 2, 3, 4, 5, 6, 7, 8, 9]\\nprint(\"avg:\", sum(value_list) / len(value_list))\\n\\nmidpoint = int(len(value_list) / 2)\\nprint(midpoint)',\n",
              " '_i102': 'value_list = [1, 2, 3, 4, 5, 6, 7, 8, 9]\\nprint(\"avg:\", sum(value_list) / len(value_list))\\n\\nmidpoint = int(len(value_list) / 2)\\nprint(midpoint)\\n\\ndef mean_and_median(value_list):\\n  \"\"\" 숫자 리스트 요소들의 평균값과 중간값을 구하는 코드를 작성해라 \\n  \\n  Args:\\n    value_list (iterable of int / float): A list of int numbers\\n\\n  Returns:\\n    tuple(float, float)\\n  \"\"\"\\n  # 평균\\n  mean = sum(value_list) / len(value_list)\\n  print(mean)',\n",
              " '_i103': 'value_list = [1, 2, 3, 4, 5, 6, 7, 8, 9]\\n# print(\"avg:\", sum(value_list) / len(value_list))\\n\\nmidpoint = int(len(value_list) / 2)\\n# print(midpoint)\\n\\ndef mean_and_median(value_list):\\n  \"\"\" 숫자 리스트 요소들의 평균값과 중간값을 구하는 코드를 작성해라 \\n  \\n  Args:\\n    value_list (iterable of int / float): A list of int numbers\\n\\n  Returns:\\n    tuple(float, float)\\n  \"\"\"\\n  # 평균\\n  mean = sum(value_list) / len(value_list)\\n  print(mean)',\n",
              " '_i104': 'value_list = [1, 2, 3, 4, 5, 6, 7, 8, 9]\\n# print(\"avg:\", sum(value_list) / len(value_list))\\n\\nmidpoint = int(len(value_list) / 2)\\n# print(midpoint)\\n\\ndef mean_and_median(value_list):\\n  \"\"\" 숫자 리스트 요소들의 평균값과 중간값을 구하는 코드를 작성해라 \\n  \\n  Args:\\n    value_list (iterable of int / float): A list of int numbers\\n\\n  Returns:\\n    tuple(float, float)\\n  \"\"\"\\n  # 평균\\n  mean = sum(value_list) / len(value_list)\\n  # 중간값\\n  median = len(value_list) / 2',\n",
              " '_i105': 'value_list = [1, 2, 3, 4, 5, 6, 7, 8, 9]\\n# print(\"avg:\", sum(value_list) / len(value_list))\\n\\nmidpoint = int(len(value_list) / 2)\\n# print(midpoint)\\n\\ndef mean_and_median(value_list):\\n  \"\"\" 숫자 리스트 요소들의 평균값과 중간값을 구하는 코드를 작성해라 \\n  \\n  Args:\\n    value_list (iterable of int / float): A list of int numbers\\n\\n  Returns:\\n    tuple(float, float)\\n  \"\"\"\\n  # 평균\\n  mean = sum(value_list) / len(value_list)\\n  # 중간값\\n  midpoint = int(len(value_list) / 2)\\n  if len(value_list) % 2 == 0:\\n    median = (value_list[midpoint-1] + value_list[midpoint]) / 2\\n  else:\\n    median = value_list[midpoint]\\n  \\n  return mean , median\\n  ',\n",
              " '_i106': 'value_list = [1, 2, 3, 4, 5, 6]\\nprint(\"avg:\", sum(value_list) / len(value_list))\\n\\n# 중간값\\nmidpoint = int(len(value_list) / 2)\\n# len(value_list) % 2 == 0:\\nprint((value_list[midpoint - 1] + value_list[midpoint]) / 2)\\nprint(value_list[midpoint])\\n\\ndef mean_and_median(value_list):\\n  \"\"\" 숫자 리스트 요소들의 평균과 중간값을 구하는 코드를 작성해라\\n  Args:\\n    value_list (iterable of int / float): A list of int numbers\\n  \\n  Return:\\n    tuple(float, float)\\n  \"\"\"\\n  # 평균\\n  mean = sum(value_list) / len(value_list)\\n  # 중간값\\n  midpoint = int(len(value_list) / 2)\\n  if len(value_list) % 2 == 0:\\n    median = (value_list[midpoint - 1] + value_list[midpoint]) / 2\\n  else:\\n    median = value_list[midpoint]\\n\\n  return mean, median\\n\\nif __name__ == \"__main__\":\\n  value_lists = [1, 1, 2, 2, 3, 4, 5]\\n  avg, median = mean_and_median(value_lists)\\n  print(\"avg:\", avg)\\n  print(\"median:\", median)',\n",
              " '_i107': 'value_list = [1, 2, 3, 4, 5, 6, 7, 8, 9]\\n# print(\"avg:\", sum(value_list) / len(value_list))\\n\\nmidpoint = int(len(value_list) / 2)\\n# print(midpoint)\\n\\ndef mean_and_median(value_list):\\n  \"\"\" 숫자 리스트 요소들의 평균값과 중간값을 구하는 코드를 작성해라 \\n  \\n  Args:\\n    value_list (iterable of int / float): A list of int numbers\\n\\n  Returns:\\n    tuple(float, float)\\n  \"\"\"\\n  # 평균\\n  mean = sum(value_list) / len(value_list)\\n  # 중간값\\n  midpoint = int(len(value_list) / 2)\\n  if len(value_list) % 2 == 0:\\n    median = (value_list[midpoint-1] + value_list[midpoint]) / 2\\n  else:\\n    median = value_list[midpoint]\\n  \\n  return mean , median\\n\\nif __name__ == \"__main__\":\\n  value_lists = [1,1,2,3,5,5]\\n  avg, median = mean_and_median(value_lists)\\n  print(\"avg:\", avg)\\n  print(\"median:\", median)',\n",
              " '_i108': 'value_list = [1, 2, 3, 4, 5, 6, 7, 8, 9]\\n# print(\"avg:\", sum(value_list) / len(value_list))\\n\\nmidpoint = int(len(value_list) / 2)\\n# print(midpoint)\\n\\ndef mean_and_median(value_list):\\n  \"\"\" 숫자 리스트 요소들의 평균값과 중간값을 구하는 코드를 작성해라 \\n  \\n  Args:\\n    value_list (iterable of int / float): A list of int numbers\\n\\n  Returns:\\n    tuple(float, float)\\n  \"\"\"\\n  # 평균\\n  mean = sum(value_list) / len(value_list)\\n  # 중간값\\n  midpoint = int(len(value_list) / 2)\\n  if len(value_list) % 2 == 0:\\n    median = (value_list[midpoint-1] + value_list[midpoint]) / 2\\n  else:\\n    median = value_list[midpoint]\\n  \\n  return mean , median\\n\\nif __name__ == \"__main__\":\\n  value_list = [1,1,2,3,5,5]\\n  avg, median = mean_and_median(value_list)\\n  print(\"avg:\", avg)\\n  print(\"median:\", median)',\n",
              " '_i109': 'my_list = [[10], [20, 30]]\\n# print(my_list)\\n\\nflattened_list = []\\nfor value_list in my_list:\\n  print(value_list)\\n  for value in value_list:\\n    # print(value)\\n    flattened_list.append(value)\\n\\nprint(flattened_list)\\n# 결괏값 : [10, 20 ,30]',\n",
              " '_i11': 'for i in len(product_name):\\n  print(i)',\n",
              " '_i110': 'x = 10\\ndef foo():\\n  x = 20\\n  print(x)\\n\\nprint(x)',\n",
              " '_i111': 'x = 10\\ndef foo():\\n  x = 20\\n  print(x)\\n\\nprint(x)\\nfoo()',\n",
              " '_i112': 'x = 10\\ndef foo():\\n  x = 20\\n  global x\\n  print(x)\\n\\nprint(x)\\nfoo()',\n",
              " '_i113': 'x = 10\\ndef foo():\\n  global x\\n  x = 20\\n  print(x)\\n\\nprint(x)\\nfoo()',\n",
              " '_i114': 'x = 10\\ndef foo():\\n  global x # 전역 변수를 설정하겠다\\n  x = 20\\n  print(x)\\n\\nprint(x)\\nfoo()\\nlocals()',\n",
              " '_i12': 'for i in range(product_name):\\n  print(i)',\n",
              " '_i13': 'for i in len(product_name):\\n  print(i)',\n",
              " '_i14': 'int for i in len(product_name):\\n  print(i)',\n",
              " '_i15': 'int i for i in len(product_name):\\n  print(i)',\n",
              " '_i16': 'for i in product_name:\\n  sales = prices[i] * quantities[i]\\n  print(sales) ',\n",
              " '_i17': 'product_name = [\"요구르트\", \"우유\"]\\nprices = [1000, 1500]\\nquantities = [5, 3]\\n\\nfor i in product_name:\\n  sales = prices[i] * quantities[i]\\n  print(sales) ',\n",
              " '_i18': 'product_name = [\"요구르트\", \"우유\"]\\nprices = [1000, 1500]\\nquantities = [5, 3]\\n\\nfor i in len(product_name):\\n  sales = prices[i] * quantities[i]\\n  print(sales) ',\n",
              " '_i19': 'product_name = [\"요구르트\", \"우유\"]\\nprices = [1000, 1500]\\nquantities = [5, 3]\\n\\nfor i in range(product_name):\\n  sales = prices[i] * quantities[i]\\n  print(sales) ',\n",
              " '_i2': 'book_list = [\"프로그래밍 R\", \"혼자 공부하는 머신러닝\"]\\nfor i in book_list:\\n  print(i)',\n",
              " '_i20': 'product_name = [\"요구르트\", \"우유\"]\\nprices = [1000, 1500]\\nquantities = [5, 3]\\n\\nfor i in len(product_name):\\n  sales = prices[i] * quantities[i]\\n  print(sales) ',\n",
              " '_i21': 'product_name = [\"요구르트\", \"우유\"]\\nprices = [1000, 1500]\\nquantities = [5, 3]\\n\\nfor i in len(product_name):\\n  sales = prices[i] * quantities[i]\\n  print(sales) ',\n",
              " '_i22': 'product_name = [\"요구르트\", \"우유\"]\\nprices = [1000, 1500]\\nquantities = [5, 3]\\n\\nfor i in len(int(product_name)):\\n  sales = prices[i] * quantities[i]\\n  print(sales) ',\n",
              " '_i23': 'product_name = [\"요구르트\", \"우유\"]\\nprices = [1000, 1500]\\nquantities = [5, 3]\\nlen = len(product_name)\\n\\nfor i in len:\\n  sales = prices[i] * quantities[i]\\n  print(sales) ',\n",
              " '_i24': 'product_name = [\"요구르트\", \"우유\"]\\nprices = [1000, 1500]\\nquantities = [5, 3]\\nlen = len(product_name)\\nsales = [len]\\nfor i in len:\\n  sales = prices[i] * quantities[i]\\n  print(sales) ',\n",
              " '_i25': 'product_name = [\"요구르트\", \"우유\"]\\nprices = [1000, 1500]\\nquantities = [5, 3]\\nlen = len(product_name)\\nsales = []\\nfor i in len:\\n  sales = prices[i] * quantities[i]\\n  print(sales) ',\n",
              " '_i26': 'product_name = [\"요구르트\", \"우유\", \"과자\"]\\nprices = [1000, 1500, 2000]\\nquantities = [5, 3, 4]\\n\\nname = product_name[0]\\nsales = prices[0] * quantities[0]\\nprint(name + \"의 매출액은\" + str(sales) + \"원이다.\")\\n\\nname = product_name[1]\\nsales = prices[1] * quantities[1]\\nprint(name + \"의 매출액은\" + str(sales) + \"원이다.\")\\n\\n# 위 코드의 반복문 코드 작성 필요 절감\\nfor i in range(product_name):\\n  print(i)',\n",
              " '_i27': 'product_name = [\"요구르트\", \"우유\", \"과자\"]\\nprices = [1000, 1500, 2000]\\nquantities = [5, 3, 4]\\n\\nname = product_name[0]\\nsales = prices[0] * quantities[0]\\nprint(name + \"의 매출액은\" + str(sales) + \"원이다.\")\\n\\nname = product_name[1]\\nsales = prices[1] * quantities[1]\\nprint(name + \"의 매출액은\" + str(sales) + \"원이다.\")\\n\\n# 위 코드의 반복문 코드 작성 필요 절감\\nfor i in range(len(product_name)):\\n  name = product_name[i]\\n  sales = prices[i] * quantities[i]\\n  print(name + \"의 매출액은\" + str(sales) + \"원이다.\")',\n",
              " '_i28': 'product_name = [\"요구르트\", \"우유\", \"과자\"]\\nprices = [1000, 1500, 2000]\\nquantities = [5, 3, 4]\\n\\nname = product_name[0]\\nsales = prices[0] * quantities[0]\\nprint(name + \"의 매출액은\" + str(sales) + \"원이다.\")\\n\\nname = product_name[1]\\nsales = prices[1] * quantities[1]\\nprint(name + \"의 매출액은\" + str(sales) + \"원이다.\")\\n\\n# 위 코드의 반복문 코드 작성 필요 절감\\nfor i in range(len(product_name)):\\n  name = product_name[i]\\n  sales = prices[i] * quantities[i]\\n  print(name + \"의 매출액은\" + str(sales) + \"원이다.\")',\n",
              " '_i29': 'product_name = [\"요구르트\", \"우유\", \"과자\"]\\nprices = [1000, 1500, 2000]\\nquantities = [5, 3, 4]\\n\\nname = product_name[0]\\nsales = prices[0] * quantities[0]\\nprint(name + \"의 매출액은\" + str(sales) + \"원이다.\")\\n\\nname = product_name[1]\\nsales = prices[1] * quantities[1]\\nprint(name + \"의 매출액은\" + str(sales) + \"원이다.\")\\n\\n# 위 코드의 반복문 코드 작성 필요 절감\\nfor i in range(len[product_name]):\\n  name = product_name[i]\\n  sales = prices[i] * quantities[i]\\n  print(name + \"의 매출액은\" + str(sales) + \"원이다.\")',\n",
              " '_i3': 'book_list = [\"프로그래밍 R\", \"혼자 공부하는 머신러닝\"]\\nfor book in book_list:\\n  print(book)',\n",
              " '_i30': 'product_name = [\"요구르트\", \"우유\", \"과자\"]\\nprices = [1000, 1500, 2000]\\nquantities = [5, 3, 4]\\n\\nname = product_name[0]\\nsales = prices[0] * quantities[0]\\nprint(name + \"의 매출액은\" + str(sales) + \"원이다.\")\\n\\nname = product_name[1]\\nsales = prices[1] * quantities[1]\\nprint(name + \"의 매출액은\" + str(sales) + \"원이다.\")\\n\\n# 위 코드의 반복문 코드 작성 필요 절감\\nfor i in range(len(product_name)):\\n  name = product_name[i]\\n  sales = prices[i] * quantities[i]\\n  print(name + \"의 매출액은\" + str(sales) + \"원이다.\")',\n",
              " '_i31': 'product_name = [\"요구르트\", \"우유\", \"과자\"]\\nprices = [1000, 1500, 2000]\\nquantities = [5, 3, 4]\\n\\n# name = product_name[0]\\n# sales = prices[0] * quantities[0]\\n# print(name + \"의 매출액은\" + str(sales) + \"원이다.\")\\n\\n# name = product_name[1]\\n# sales = prices[1] * quantities[1]\\n# print(name + \"의 매출액은\" + str(sales) + \"원이다.\")\\n\\n# 위 코드의 반복문 코드 작성 필요 절감\\nfor i in range(len(product_name)):\\n  name = product_name[i]\\n  sales = prices[i] * quantities[i]\\n  print(name + \"의 매출액은\" + str(sales) + \"원이다.\")',\n",
              " '_i32': 'product_name = [\"요구르트\", \"우유\", \"과자\"]\\nprices = [1000, 1500, 2000]\\nquantities = [5, 3, 4]\\nprint(len(product_name))\\n# name = product_name[0]\\n# sales = prices[0] * quantities[0]\\n# print(name + \"의 매출액은\" + str(sales) + \"원이다.\")\\n\\n# name = product_name[1]\\n# sales = prices[1] * quantities[1]\\n# print(name + \"의 매출액은\" + str(sales) + \"원이다.\")\\n\\n# 위 코드의 반복문 코드 작성 필요 절감\\nfor i in range(len(product_name)):\\n  name = product_name[i]\\n  sales = prices[i] * quantities[i]\\n  print(name + \"의 매출액은\" + str(sales) + \"원이다.\")',\n",
              " '_i33': 'product_name = [\"요구르트\", \"우유\", \"과자\"]\\nprices = [1000, 1500, 2000]\\nquantities = [5, 3, 4]\\nprint(len(product_name))\\n# name = product_name[0]\\n# sales = prices[0] * quantities[0]\\n# print(name + \"의 매출액은\" + str(sales) + \"원이다.\")\\n\\n# name = product_name[1]\\n# sales = prices[1] * quantities[1]\\n# print(name + \"의 매출액은\" + str(sales) + \"원이다.\")\\n\\n# 위 코드의 반복문 코드 작성 필요 절감\\n# for i in range(len(product_name)):\\n#   name = product_name[i]\\n#   sales = prices[i] * quantities[i]\\n#   print(name + \"의 매출액은\" + str(sales) + \"원이다.\")',\n",
              " '_i34': 'product_name = [\"요구르트\", \"우유\", \"과자\"]\\nprices = [1000, 1500, 2000]\\nquantities = [5, 3, 4]\\nprint(product_name)\\n# name = product_name[0]\\n# sales = prices[0] * quantities[0]\\n# print(name + \"의 매출액은\" + str(sales) + \"원이다.\")\\n\\n# name = product_name[1]\\n# sales = prices[1] * quantities[1]\\n# print(name + \"의 매출액은\" + str(sales) + \"원이다.\")\\n\\n# 위 코드의 반복문 코드 작성 필요 절감\\n# for i in range(len(product_name)):\\n#   name = product_name[i]\\n#   sales = prices[i] * quantities[i]\\n#   print(name + \"의 매출액은\" + str(sales) + \"원이다.\")',\n",
              " '_i35': 'product_name = [\"요구르트\", \"우유\", \"과자\"]\\nprices = [1000, 1500, 2000]\\nquantities = [5, 3, 4]\\nprint(len(product_name))\\n# name = product_name[0]\\n# sales = prices[0] * quantities[0]\\n# print(name + \"의 매출액은\" + str(sales) + \"원이다.\")\\n\\n# name = product_name[1]\\n# sales = prices[1] * quantities[1]\\n# print(name + \"의 매출액은\" + str(sales) + \"원이다.\")\\n\\n# 위 코드의 반복문 코드 작성 필요 절감\\n# for i in range(len(product_name)):\\n#   name = product_name[i]\\n#   sales = prices[i] * quantities[i]\\n#   print(name + \"의 매출액은\" + str(sales) + \"원이다.\")',\n",
              " '_i36': 'product_name = [\"요구르트\", \"우유\", \"과자\"]\\nprices = [1000, 1500, 2000]\\nquantities = [5, 3, 4]\\nprint(len(product_name))\\n# name = product_name[0]\\n# sales = prices[0] * quantities[0]\\n# print(name + \"의 매출액은\" + str(sales) + \"원이다.\")\\n\\n# name = product_name[1]\\n# sales = prices[1] * quantities[1]\\n# print(name + \"의 매출액은\" + str(sales) + \"원이다.\")\\n\\n# 위 코드의 반복문 코드 작성 필요 절감\\n# for i in range(len(product_name)):\\n#   name = product_name[i]\\n#   sales = prices[i] * quantities[i]\\n#   print(name + \"의 매출액은\" + str(sales) + \"원이다.\")',\n",
              " '_i37': 'product_name = [\"요구르트\", \"우유\", \"과자\"]\\nprices = [1000, 1500, 2000]\\nquantities = [5, 3, 4]\\nprint(len(product_name))\\n# name = product_name[0]\\n# sales = prices[0] * quantities[0]\\n# print(name + \"의 매출액은\" + str(sales) + \"원이다.\")\\n\\n# name = product_name[1]\\n# sales = prices[1] * quantities[1]\\n# print(name + \"의 매출액은\" + str(sales) + \"원이다.\")\\n\\n# 위 코드의 반복문 코드 작성 필요 절감\\n# for i in range(len(product_name)):\\n#   name = product_name[i]\\n#   sales = prices[i] * quantities[i]\\n#   print(name + \"의 매출액은\" + str(sales) + \"원이다.\")',\n",
              " '_i38': 'product_name = [\"요구르트\", \"우유\", \"과자\"]\\nprices = [1000, 1500, 2000]\\nquantities = [5, 3, 4]\\nprint(len(prices))\\n# name = product_name[0]\\n# sales = prices[0] * quantities[0]\\n# print(name + \"의 매출액은\" + str(sales) + \"원이다.\")\\n\\n# name = product_name[1]\\n# sales = prices[1] * quantities[1]\\n# print(name + \"의 매출액은\" + str(sales) + \"원이다.\")\\n\\n# 위 코드의 반복문 코드 작성 필요 절감\\n# for i in range(len(product_name)):\\n#   name = product_name[i]\\n#   sales = prices[i] * quantities[i]\\n#   print(name + \"의 매출액은\" + str(sales) + \"원이다.\")',\n",
              " '_i39': 'count = 1\\nwhile count < 5:\\n  count += 1\\n  print(count)',\n",
              " '_i4': 'strings01 = \"Hello World\"\\nfor char in strings01:\\n  print(char)',\n",
              " '_i40': 'product_name = [\"요구르트\", \"우유\", \"과자\"]\\nprices = [1000, 1500, 2000]\\nquantities = [5, 3, 4]\\nprint(len(prices))',\n",
              " '_i41': 'count = 1\\nwhile count <= 5:\\n  print(\"안녕하세요..\")\\n  count += 1\\n  print(count)\\n\\nprint(\"5 초과 했군요..\")',\n",
              " '_i42': 'product_name = [\"요구르트\", \"우유\", \"과자\"]\\nprices = [1000, 1500, 2000]\\nquantities = [5, 3, 4]\\nprint(len(product_name))\\n# name = product_name[0]\\n# sales = prices[0] * quantities[0]\\n# print(name + \"의 매출액은\" + str(sales) + \"원이다.\")\\n\\n# name = product_name[1]\\n# sales = prices[1] * quantities[1]\\n# print(name + \"의 매출액은\" + str(sales) + \"원이다.\")\\n\\n# 위 코드의 반복문 코드 작성 필요 절감\\n# for i in range(len(product_name)):\\n#   name = product_name[i]\\n#   sales = prices[i] * quantities[i]\\n#   print(name + \"의 매출액은\" + str(sales) + \"원이다.\")',\n",
              " '_i43': 'product_name = [\"요구르트\", \"우유\", \"과자\"]\\nprices = [1000, 1500, 2000]\\nquantities = [5, 3, 4]\\nprint(len[1, 2, 3])\\n# name = product_name[0]\\n# sales = prices[0] * quantities[0]\\n# print(name + \"의 매출액은\" + str(sales) + \"원이다.\")\\n\\n# name = product_name[1]\\n# sales = prices[1] * quantities[1]\\n# print(name + \"의 매출액은\" + str(sales) + \"원이다.\")\\n\\n# 위 코드의 반복문 코드 작성 필요 절감\\n# for i in range(len(product_name)):\\n#   name = product_name[i]\\n#   sales = prices[i] * quantities[i]\\n#   print(name + \"의 매출액은\" + str(sales) + \"원이다.\")',\n",
              " '_i44': 'product_name = [\"요구르트\", \"우유\", \"과자\"]\\nprices = [1000, 1500, 2000]\\nquantities = [5, 3, 4]\\nprint(type(product_name))\\n# name = product_name[0]\\n# sales = prices[0] * quantities[0]\\n# print(name + \"의 매출액은\" + str(sales) + \"원이다.\")\\n\\n# name = product_name[1]\\n# sales = prices[1] * quantities[1]\\n# print(name + \"의 매출액은\" + str(sales) + \"원이다.\")\\n\\n# 위 코드의 반복문 코드 작성 필요 절감\\n# for i in range(len(product_name)):\\n#   name = product_name[i]\\n#   sales = prices[i] * quantities[i]\\n#   print(name + \"의 매출액은\" + str(sales) + \"원이다.\")',\n",
              " '_i45': 'product_name = [\"요구르트\", \"우유\", \"과자\"]\\nprices = [1000, 1500, 2000]\\nquantities = [5, 3, 4]\\nprint(len(product_name))\\n# name = product_name[0]\\n# sales = prices[0] * quantities[0]\\n# print(name + \"의 매출액은\" + str(sales) + \"원이다.\")\\n\\n# name = product_name[1]\\n# sales = prices[1] * quantities[1]\\n# print(name + \"의 매출액은\" + str(sales) + \"원이다.\")\\n\\n# 위 코드의 반복문 코드 작성 필요 절감\\n# for i in range(len(product_name)):\\n#   name = product_name[i]\\n#   sales = prices[i] * quantities[i]\\n#   print(name + \"의 매출액은\" + str(sales) + \"원이다.\")',\n",
              " '_i46': 'count = 3\\nwhile count > 0:\\n  print(\"안녕하세요..\")\\n  count -= 1\\n  print(count)',\n",
              " '_i47': 'product_name = [\"요구르트\", \"우유\", \"과자\"]\\nprices = [1000, 1500, 2000]\\nquantities = [5, 3, 4]\\na = [1, 2, 3]\\nprint(len(a))\\n# name = product_name[0]\\n# sales = prices[0] * quantities[0]\\n# print(name + \"의 매출액은\" + str(sales) + \"원이다.\")\\n\\n# name = product_name[1]\\n# sales = prices[1] * quantities[1]\\n# print(name + \"의 매출액은\" + str(sales) + \"원이다.\")\\n\\n# 위 코드의 반복문 코드 작성 필요 절감\\n# for i in range(len(product_name)):\\n#   name = product_name[i]\\n#   sales = prices[i] * quantities[i]\\n#   print(name + \"의 매출액은\" + str(sales) + \"원이다.\")',\n",
              " '_i48': 'product_name = [\"요구르트\", \"우유\", \"과자\"]\\nprices = [1000, 1500, 2000]\\nquantities = [5, 3, 4]\\na = [1, 2, 3]\\nprint(1)\\n# name = product_name[0]\\n# sales = prices[0] * quantities[0]\\n# print(name + \"의 매출액은\" + str(sales) + \"원이다.\")\\n\\n# name = product_name[1]\\n# sales = prices[1] * quantities[1]\\n# print(name + \"의 매출액은\" + str(sales) + \"원이다.\")\\n\\n# 위 코드의 반복문 코드 작성 필요 절감\\n# for i in range(len(product_name)):\\n#   name = product_name[i]\\n#   sales = prices[i] * quantities[i]\\n#   print(name + \"의 매출액은\" + str(sales) + \"원이다.\")',\n",
              " '_i49': 'product_name = [\"요구르트\", \"우유\", \"과자\"]\\nprices = [1000, 1500, 2000]\\nquantities = [5, 3, 4]\\na = [1, 2, 3]\\nprint(len(a))\\n# name = product_name[0]\\n# sales = prices[0] * quantities[0]\\n# print(name + \"의 매출액은\" + str(sales) + \"원이다.\")\\n\\n# name = product_name[1]\\n# sales = prices[1] * quantities[1]\\n# print(name + \"의 매출액은\" + str(sales) + \"원이다.\")\\n\\n# 위 코드의 반복문 코드 작성 필요 절감\\n# for i in range(len(product_name)):\\n#   name = product_name[i]\\n#   sales = prices[i] * quantities[i]\\n#   print(name + \"의 매출액은\" + str(sales) + \"원이다.\")',\n",
              " '_i5': 'num_tuple = (1, 2, 3, 4)\\nfor num in num_tuple:\\n  print(num)',\n",
              " '_i50': 'product_name = [\"요구르트\", \"우유\", \"과자\"]\\nprices = [1000, 1500, 2000]\\nquantities = [5, 3, 4]\\na = [1, 2, 3]\\ndel len\\nprint(len(a))\\n# name = product_name[0]\\n# sales = prices[0] * quantities[0]\\n# print(name + \"의 매출액은\" + str(sales) + \"원이다.\")\\n\\n# name = product_name[1]\\n# sales = prices[1] * quantities[1]\\n# print(name + \"의 매출액은\" + str(sales) + \"원이다.\")\\n\\n# 위 코드의 반복문 코드 작성 필요 절감\\n# for i in range(len(product_name)):\\n#   name = product_name[i]\\n#   sales = prices[i] * quantities[i]\\n#   print(name + \"의 매출액은\" + str(sales) + \"원이다.\")',\n",
              " '_i51': 'product_name = [\"요구르트\", \"우유\", \"과자\"]\\nprices = [1000, 1500, 2000]\\nquantities = [5, 3, 4]\\na = [1, 2, 3]\\ndel len\\nprint(len(product_name))\\n# name = product_name[0]\\n# sales = prices[0] * quantities[0]\\n# print(name + \"의 매출액은\" + str(sales) + \"원이다.\")\\n\\n# name = product_name[1]\\n# sales = prices[1] * quantities[1]\\n# print(name + \"의 매출액은\" + str(sales) + \"원이다.\")\\n\\n# 위 코드의 반복문 코드 작성 필요 절감\\n# for i in range(len(product_name)):\\n#   name = product_name[i]\\n#   sales = prices[i] * quantities[i]\\n#   print(name + \"의 매출액은\" + str(sales) + \"원이다.\")',\n",
              " '_i52': 'product_name = [\"요구르트\", \"우유\", \"과자\"]\\nprices = [1000, 1500, 2000]\\nquantities = [5, 3, 4]\\na = [1, 2, 3]\\nprint(len(product_name))\\n# name = product_name[0]\\n# sales = prices[0] * quantities[0]\\n# print(name + \"의 매출액은\" + str(sales) + \"원이다.\")\\n\\n# name = product_name[1]\\n# sales = prices[1] * quantities[1]\\n# print(name + \"의 매출액은\" + str(sales) + \"원이다.\")\\n\\n# 위 코드의 반복문 코드 작성 필요 절감\\n# for i in range(len(product_name)):\\n#   name = product_name[i]\\n#   sales = prices[i] * quantities[i]\\n#   print(name + \"의 매출액은\" + str(sales) + \"원이다.\")',\n",
              " '_i53': 'product_name = [\"요구르트\", \"우유\", \"과자\"]\\nprices = [1000, 1500, 2000]\\nquantities = [5, 3, 4]\\na = [1, 2, 3]\\n# name = product_name[0]\\n# sales = prices[0] * quantities[0]\\n# print(name + \"의 매출액은\" + str(sales) + \"원이다.\")\\n\\n# name = product_name[1]\\n# sales = prices[1] * quantities[1]\\n# print(name + \"의 매출액은\" + str(sales) + \"원이다.\")\\n\\n# 위 코드의 반복문 코드 작성 필요 절감\\nfor i in range(len(product_name)):\\n  name = product_name[i]\\n  sales = prices[i] * quantities[i]\\n  print(name + \"의 매출액은\" + str(sales) + \"원이다.\")',\n",
              " '_i54': 'def add(a, b):\\n  c = a + b\\n  return c\\n\\nadd(1, 2)',\n",
              " '_i55': 'def subtraction(a, b):\\n  c = a - b\\n  return C\\n\\nsubtraction(4, 3)',\n",
              " '_i56': 'def subtraction(a, b):\\n  c = a - b\\n  return c\\n\\nsubtraction(4, 3)',\n",
              " '_i57': 'def add(a, b):\\n  c = a + b\\n  return c\\n\\nadd(1, 2)\\n\\ndef subtraction(a, b):\\n  c = a - b\\n  return c\\n\\nsubtraction(4, 3)',\n",
              " '_i58': 'def multiplication(a, b):\\n  c = a * b\\n  return c\\n\\nmultiplication(1, 3)',\n",
              " '_i59': 'def multiplication(a, b):\\n  c = a * b\\n  return c\\n\\nmultiplication(5, 3)',\n",
              " '_i6': 'num_dict = {\"A\" : 1, \"B\" : 2}\\nfor num in num_dict:\\n  print(num)',\n",
              " '_i60': 'def division(a, b):\\n  c = a / b\\n  return c\\n\\ndivision(15,5)',\n",
              " '_i61': 'def add(a, b):\\n  c = a + b\\n  return c\\n\\nadd(1, 2)\\n\\ndef subtraction(a, b):\\n  c = a - b\\n  return c\\n\\nsubtraction(4, 3)',\n",
              " '_i62': 'def add(a, b):\\n  c = a + b\\n  return c\\n\\nadd(1, 2)\\n\\ndef subtraction(a, b):\\n  c = a - b\\n  return c\\n\\nsubtraction(4, 3)',\n",
              " '_i63': '# /user/local/bin/python\\n# -*- coding: utf-8 -*-\\n\\ndef add(a, b):\\n  c = a + b\\n  return c\\n\\nif __name__ == \"__main__\":\\n  a = 1\\n  b = 2\\n  c = add(a, b)\\n  print(c)',\n",
              " '_i64': '# /user/local/bin/python\\n# -*- coding: utf-8 -*-\\n\\ndef add(a, b):\\n  \"\"\"a와 b를 합산하는 함수입니다.\"\"\"\\n  c = a + b\\n  return c\\n\\nif __name__ == \"__main__\":\\n  a = 1\\n  b = 2\\n  c = add(a, b)\\n  print(c)\\n  help(add(a, b))',\n",
              " '_i65': '# /user/local/bin/python\\n# -*- coding: utf-8 -*-\\n\\ndef add_number(a, b):\\n  \"\"\"a와 b를 합산하는 함수입니다.\"\"\"\\n  c = a + b\\n  return c\\n\\nif __name__ == \"__main__\":\\n  a = 1\\n  b = 2\\n  c = add_number(a, b)\\n  print(c)\\n  helpadd_number(a, b)',\n",
              " '_i66': '# /user/local/bin/python\\n# -*- coding: utf-8 -*-\\n\\ndef add_number(a, b):\\n  \"\"\"a와 b를 합산하는 함수입니다.\"\"\"\\n  c = a + b\\n  return c\\n\\nif __name__ == \"__main__\":\\n  a = 1\\n  b = 2\\n  c = add_number(a, b)\\n  print(c)\\n  help(add_number(a, b))',\n",
              " '_i67': '# /user/local/bin/python\\n# -*- coding: utf-8 -*-\\n\\ndef temp(a, b):\\n  \"\"\"a와 b를 합산하는 함수입니다.\"\"\"\\n  print(\"함수 테스트\")\\n  return None\\n\\nif __name__ == \"__main__\":\\n  help(temp())',\n",
              " '_i68': '# /user/local/bin/python\\n# -*- coding: utf-8 -*-\\n\\ndef temp():\\n  \"\"\"a와 b를 합산하는 함수입니다.\"\"\"\\n  print(\"함수 테스트\")\\n  return None\\n\\nif __name__ == \"__main__\":\\n  help(temp())',\n",
              " '_i69': '# /user/local/bin/python\\n# -*- coding: utf-8 -*-\\n\\ndef temp(content, letter):\\n  \"\"\"content안에 있는 문자를 세는 함수입니다.\\n  \\n  Args:\\n    content(str) : 탐색 문자열\\n    letter(str) : 찾을 문자열\\n\\n  Returns:\\n    int\\n  \"\"\"\\n\\n  print(\"함수 테스트\")\\n\\n  cnt = len([char for char in content if char == letter])\\n  return cnt\\n\\nif __name__ == \"__main__\":\\n  help(temp)',\n",
              " '_i7': 'num_dict = {\"A\" : 1, \"B\" : 2}\\nfor num in num_dict:\\n  # print(num) # keys 값이 나옴, value값이 아니라.\\n  print(num_dict[num])',\n",
              " '_i70': '# /user/local/bin/python\\n# -*- coding: utf-8 -*-\\n# docstring\\ndef temp(content, letter):\\n  \"\"\"content안에 있는 문자를 세는 함수입니다.\\n  \\n  Args:\\n    content(str) : 탐색 문자열\\n    letter(str) : 찾을 문자열\\n\\n  Returns:\\n    int\\n  \"\"\"\\n\\n  print(\"함수 테스트\")\\n\\n  cnt = len([char for char in content if char == letter])\\n  return cnt\\n\\nif __name__ == \"__main__\":\\n  help(temp)\\n  docstring = temp.__doc__\\n  print(docstring)',\n",
              " '_i71': 'my_list = [[10], [20, 30]]\\nprint(my_list)',\n",
              " '_i72': 'my_list = [[10], [20, 30]]\\nprint(my_list)\\n\\nfor value_list in my_list:\\n  print(value_list)\\n\\n# 결괏값 : [10, 20 ,30]',\n",
              " '_i73': 'my_list = [[10], [20, 30]]\\n# print(my_list)\\n\\nflattened_list = []\\nfor value_list in my_list:\\n  print(value_list)\\n  for value in value_list:\\n    print(value)\\n    # flattened_list.append(value)\\n# 결괏값 : [10, 20 ,30]',\n",
              " '_i74': 'my_list = [[10], [20, 30]]\\n# print(my_list)\\n\\nflattened_list = []\\nfor value_list in my_list:\\n  # print(value_list)\\n  for value in value_list:\\n    print(value)\\n    # flattened_list.append(value)\\n# 결괏값 : [10, 20 ,30]',\n",
              " '_i75': 'my_list = [[10], [20, 30]]\\n# print(my_list)\\n\\nflattened_list = []\\nfor value_list in my_list:\\n  # print(value_list)\\n  for value in value_list:\\n    print(value)\\n    flattened_list.append(value)\\n\\nprint(flattened_list)\\n# 결괏값 : [10, 20 ,30]',\n",
              " '_i76': 'my_list = [[10], [20, 30]]\\n# print(my_list)\\n\\nflattened_list = []\\nfor value_list in my_list:\\n  print(value_list)\\n  for value in value_list:\\n    # print(value)\\n    flattened_list.append(value)\\n\\n# print(flattened_list)\\n# 결괏값 : [10, 20 ,30]',\n",
              " '_i77': 'my_list = [[10], [20, 30]]\\n# print(my_list)\\n\\nflattened_list = []\\nfor value_list in my_list:\\n  # print(value_list)\\n  for value in value_list:\\n    print(value)\\n    flattened_list.append(value)\\n\\n# print(flattened_list)\\n# 결괏값 : [10, 20 ,30]',\n",
              " '_i78': 'my_list = [[10], [20, 30]]\\nflattened_list = [value for value_list in my_list for value in value_list]\\nprint(flattened_list)',\n",
              " '_i79': 'letters = []\\nfor char in \"helloworld\":\\n  letters.append(char)\\nprint(letters)',\n",
              " '_i8': 'product_name = [\"요구르트\", \"우유\"]\\nprices = [1000, 1500]\\nquantities = [5, 3]\\n\\nname = product_name[0]\\nsales = prices[0] * quantities[0]\\nprint(name + \"의 매출액은\" + str(sales) + \"원이다.\")\\n\\nname = product_name[1]\\nsales = prices[1] * quantities[1]\\nprint(name + \"의 매출액은\" + str(sales) + \"원이다.\")',\n",
              " '_i80': 'letters2 = [char for char in \"helloworld\":]\\nprint(letters2)',\n",
              " '_i81': 'letters2 = [char for char in \"helloworld\"]\\nprint(letters2)',\n",
              " '_i82': 'value_list = [1, 2, 3, 4, 5]\\nprint(sum(value_list))',\n",
              " '_i83': 'value_list = [1, 2, 3, 4, 5]\\nprint(sum(value_list) / len(value_list))',\n",
              " '_i84': 'value_list = [1, 2, 3, 4, 5]\\nprint(\"avg: \", sum(value_list) / len(value_list))',\n",
              " '_i85': 'value_list = [1, 2, 3, 4, 5]\\nprint(\"avg:\", sum(value_list) / len(value_list))',\n",
              " '_i86': 'value_list = [1, 2, 3, 4, 5]\\nprint(\"avg:\", sum(value_list) / len(value_list))\\n# 중간값\\n\\nmidpoint = int(len(value_list) / 2)\\nprint(midpoint)',\n",
              " '_i87': 'value_list = [1, 2, 3, 4, 5, 6]\\nprint(\"avg:\", sum(value_list) / len(value_list))\\n# 중간값\\n\\nmidpoint = int(len(value_list) / 2)\\n# len(value_list) % 2 == 0:\\n(value_list[midpoint - 1] + value_list[midpoint]) / 2\\nprint(midpoint)',\n",
              " '_i88': 'value_list = [1, 2, 3, 4, 5, 6]\\nprint(\"avg:\", sum(value_list) / len(value_list))\\n# 중간값\\n\\nmidpoint = int(len(value_list) / 2)\\n# len(value_list) % 2 == 0:\\nprint((value_list[midpoint - 1] + value_list[midpoint]) / 2)\\nprint(midpoint)',\n",
              " '_i89': 'value_list = [1, 2, 3, 4, 5, 6]\\nprint(\"avg:\", sum(value_list) / len(value_list))\\n# 중간값\\n\\nmidpoint = int(len(value_list) / 2)\\n# len(value_list) % 2 == 0:\\nprint((value_list[midpoint - 1] + value_list[midpoint]) / 2)\\nprint(value_list[midpoint])',\n",
              " '_i9': 'for i in range(product_name):\\n  print(i)',\n",
              " '_i90': 'value_list = [1, 2, 3, 4, 5, 6]\\nprint(\"avg:\", sum(value_list) / len(value_list))\\n# 중간값\\n\\nmidpoint = int(len(value_list) / 2)\\n# len(value_list) % 2 == 0:\\nprint((value_list[midpoint - 1] + value_list[midpoint]) / 2)\\nprint(value_list[midpoint])\\n\\ndef mean_and_median(value_lish):\\n  \"\"\" 숫자 리스트 요소들의 평균과 중간값을 구하는 코드를 작성해라\\n  Args:\\n    value_list (iterable of int / float): A list of int numbers\\n  \\n  Returns:\\n    tuple(float, float)\\n  \"\"\"\\n  # 평균\\n  mean = sum(values) / len(values)\\n  # 중간값\\n  midpoint = int(len(value_list) / 2) / 2)\\n  if len(value_list) % 2 == 0:\\n    median = (values[midpoint - 1] + value_list[midpoint]) / 2\\n  else:\\n    median = value_list[midpoint]\\n\\n  return mean, median',\n",
              " '_i91': 'value_list = [1, 2, 3, 4, 5, 6]\\nprint(\"avg:\", sum(value_list) / len(value_list))\\n# 중간값\\n\\nmidpoint = int(len(value_list) / 2)\\n# len(value_list) % 2 == 0:\\nprint((value_list[midpoint - 1] + value_list[midpoint]) / 2)\\nprint(value_list[midpoint])\\n\\ndef mean_and_median(value_list):\\n  \"\"\" 숫자 리스트 요소들의 평균과 중간값을 구하는 코드를 작성해라\\n  Args:\\n    value_list (iterable of int / float): A list of int numbers\\n  \\n  Returns:\\n    tuple(float, float)\\n  \"\"\"\\n  # 평균\\n  mean = sum(values) / len(values)\\n  # 중간값\\n  midpoint = int(len(value_list) / 2) / 2)\\n  if len(value_list) % 2 == 0:\\n    median = (values[midpoint - 1] + value_list[midpoint]) / 2\\n  else:\\n    median = value_list[midpoint]\\n\\n  return mean, median\\n\\nif __name__ == \"__main__\":\\n  value_list = [1, 1, 2, 2, 3, 4, 5]\\n  avg, median = mean_and_median(value_list)\\n  print(\"avg:\", avg)\\n  print(\"median:\", median)',\n",
              " '_i92': 'value_list = [1, 2, 3, 4, 5, 6]\\nprint(\"avg:\", sum(value_list) / len(value_list))\\n# 중간값\\n\\nmidpoint = int(len(value_list) / 2)\\n# len(value_list) % 2 == 0:\\nprint((value_list[midpoint - 1] + value_list[midpoint]) / 2)\\nprint(value_list[midpoint])\\n\\ndef mean_and_median(value_list):\\n  \"\"\" 숫자 리스트 요소들의 평균과 중간값을 구하는 코드를 작성해라\\n  Args:\\n    value_list (iterable of int / float): A list of int numbers\\n  \\n  Returns:\\n    tuple(float, float)\\n  \"\"\"\\n  # 평균\\n  mean = sum(values) / len(values)\\n  # 중간값\\n  midpoint = int(len(value_list) / 2)\\n  if len(value_list) % 2 == 0:\\n    median = (values[midpoint - 1] + value_list[midpoint]) / 2\\n  else:\\n    median = value_list[midpoint]\\n\\n  return mean, median\\n\\nif __name__ == \"__main__\":\\n  value_list = [1, 1, 2, 2, 3, 4, 5]\\n  avg, median = mean_and_median(value_list)\\n  print(\"avg:\", avg)\\n  print(\"median:\", median)',\n",
              " '_i93': 'value_list = [1, 2, 3, 4, 5, 6]\\nprint(\"avg:\", sum(value_list) / len(value_list))\\n# 중간값\\n\\nmidpoint = int(len(value_list) / 2)\\n# len(value_list) % 2 == 0:\\nprint((value_list[midpoint - 1] + value_list[midpoint]) / 2)\\nprint(value_list[midpoint])\\n\\ndef mean_and_median(value_list):\\n  \"\"\" 숫자 리스트 요소들의 평균과 중간값을 구하는 코드를 작성해라\\n  Args:\\n    value_list (iterable of int / float): A list of int numbers\\n  \\n  Returns:\\n    tuple(float, float)\\n  \"\"\"\\n  # 평균\\n  mean = sum(value_list) / len(value_list)\\n  # 중간값\\n  midpoint = int(len(value_list) / 2)\\n  if len(value_list) % 2 == 0:\\n    median = (values[midpoint - 1] + value_list[midpoint]) / 2\\n  else:\\n    median = value_list[midpoint]\\n\\n  return mean, median\\n\\nif __name__ == \"__main__\":\\n  value_list = [1, 1, 2, 2, 3, 4, 5]\\n  avg, median = mean_and_median(value_list)\\n  print(\"avg:\", avg)\\n  print(\"median:\", median)',\n",
              " '_i94': 'value_list = [1, 2, 3, 4, 5, 6]\\nprint(sum(value_list))\\n# print(\"avg:\", sum(value_list) / len(value_list))\\n# 중간값\\n\\nmidpoint = int(len(value_list) / 2)\\n# len(value_list) % 2 == 0:\\nprint((value_list[midpoint - 1] + value_list[midpoint]) / 2)\\nprint(value_list[midpoint])\\n\\ndef mean_and_median(value_list):\\n  \"\"\" 숫자 리스트 요소들의 평균과 중간값을 구하는 코드를 작성해라\\n  Args:\\n    value_list (iterable of int / float): A list of int numbers\\n  \\n  Returns:\\n    tuple(float, float)\\n  \"\"\"\\n  # 평균\\n  mean = sum(value_list) / len(value_list)\\n  # 중간값\\n  midpoint = int(len(value_list) / 2)\\n  if len(value_list) % 2 == 0:\\n    median = (values[midpoint - 1] + value_list[midpoint]) / 2\\n  else:\\n    median = value_list[midpoint]\\n\\n  return mean, median\\n\\nif __name__ == \"__main__\":\\n  value_list = [1, 1, 2, 2, 3, 4, 5]\\n  avg, median = mean_and_median(value_list)\\n  print(\"avg:\", avg)\\n  print(\"median:\", median)',\n",
              " '_i95': 'value_list = [1, 2, 3, 4, 5, 6]\\nprint(\"avg:\", sum(value_list) / len(value_list))\\n\\n# 중간값\\nmidpoint = int(len(value_list) / 2)\\n# len(value_list) % 2 == 0:\\nprint((value_list[midpoint - 1] + value_list[midpoint]) / 2)\\nprint(value_list[midpoint])\\n\\ndef mean_and_median(value_list):\\n  \"\"\" 숫자 리스트 요소들의 평균과 중간값을 구하는 코드를 작성해라\\n  Args:\\n    value_list (iterable of int / float): A list of int numbers\\n  \\n  Returns:\\n    tuple(float, float)\\n  \"\"\"\\n  # 평균\\n  mean = sum(value_list) / len(value_list)\\n  # 중간값\\n  midpoint = int(len(value_list) / 2)\\n  if len(value_list) % 2 == 0:\\n    median = (values[midpoint - 1] + value_list[midpoint]) / 2\\n  else:\\n    median = value_list[midpoint]\\n\\n  return mean, median\\n\\nif __name__ == \"__main__\":\\n  value_list = [1, 1, 2, 2, 3, 4, 5]\\n  avg, median = mean_and_median(value_list)\\n  print(\"avg:\", avg)\\n  print(\"median:\", median)',\n",
              " '_i96': 'value_list = [1, 2, 3, 4, 5, 6]\\nprint(\"avg:\", sum(value_list) / len(value_list))\\n\\n# 중간값\\nmidpoint = int(len(value_list) / 2)\\n# len(value_list) % 2 == 0:\\nprint((value_list[midpoint - 1] + value_list[midpoint]) / 2)\\nprint(value_list[midpoint])\\n\\ndef mean_and_median(value_list):\\n  \"\"\" 숫자 리스트 요소들의 평균과 중간값을 구하는 코드를 작성해라\\n  Args:\\n    value_list (iterable of int / float): A list of int numbers\\n  \\n  Returns:\\n    tuple(float, float)\\n  \"\"\"\\n  # 평균\\n  mean = sum(value_list) / len(value_list)\\n  # 중간값\\n  midpoint = int(len(value_list) / 2)\\n  if len(value_list) % 2 == 0:\\n    median = (value_list[midpoint - 1] + value_list[midpoint]) / 2\\n  else:\\n    median = value_list[midpoint]\\n\\n  return mean, median\\n\\nif __name__ == \"__main__\":\\n  value_list = [1, 1, 2, 2, 3, 4, 5]\\n  avg, median = mean_and_median(value_list)\\n  print(\"avg:\", avg)\\n  print(\"median:\", median)',\n",
              " '_i97': 'students = [1, 2, 3, 4, 5, 6, 7, 8]\\nprint(\"avg:\", sum(students) / len(students))',\n",
              " '_i98': 'value_list = [1, 2, 3, 4, 5, 6, 7, 8, 9]\\nprint(\"avg:\", sum(value_list) / len(value_list))',\n",
              " '_i99': 'value_list = [1, 2, 3, 4, 5, 6, 7, 8, 9]\\nprint(\"avg:\", sum(value_list) / len(value_list))\\n\\nmidpoint = value_list[len(value_list)]\\nprint(midpoint)',\n",
              " '_ih': ['',\n",
              "  'for i in range(3):\\n  print(i+1, \"안녕하세요\")',\n",
              "  'book_list = [\"프로그래밍 R\", \"혼자 공부하는 머신러닝\"]\\nfor i in book_list:\\n  print(i)',\n",
              "  'book_list = [\"프로그래밍 R\", \"혼자 공부하는 머신러닝\"]\\nfor book in book_list:\\n  print(book)',\n",
              "  'strings01 = \"Hello World\"\\nfor char in strings01:\\n  print(char)',\n",
              "  'num_tuple = (1, 2, 3, 4)\\nfor num in num_tuple:\\n  print(num)',\n",
              "  'num_dict = {\"A\" : 1, \"B\" : 2}\\nfor num in num_dict:\\n  print(num)',\n",
              "  'num_dict = {\"A\" : 1, \"B\" : 2}\\nfor num in num_dict:\\n  # print(num) # keys 값이 나옴, value값이 아니라.\\n  print(num_dict[num])',\n",
              "  'product_name = [\"요구르트\", \"우유\"]\\nprices = [1000, 1500]\\nquantities = [5, 3]\\n\\nname = product_name[0]\\nsales = prices[0] * quantities[0]\\nprint(name + \"의 매출액은\" + str(sales) + \"원이다.\")\\n\\nname = product_name[1]\\nsales = prices[1] * quantities[1]\\nprint(name + \"의 매출액은\" + str(sales) + \"원이다.\")',\n",
              "  'for i in range(product_name):\\n  print(i)',\n",
              "  'for i in (product_name):\\n  print(i)',\n",
              "  'for i in len(product_name):\\n  print(i)',\n",
              "  'for i in range(product_name):\\n  print(i)',\n",
              "  'for i in len(product_name):\\n  print(i)',\n",
              "  'int for i in len(product_name):\\n  print(i)',\n",
              "  'int i for i in len(product_name):\\n  print(i)',\n",
              "  'for i in product_name:\\n  sales = prices[i] * quantities[i]\\n  print(sales) ',\n",
              "  'product_name = [\"요구르트\", \"우유\"]\\nprices = [1000, 1500]\\nquantities = [5, 3]\\n\\nfor i in product_name:\\n  sales = prices[i] * quantities[i]\\n  print(sales) ',\n",
              "  'product_name = [\"요구르트\", \"우유\"]\\nprices = [1000, 1500]\\nquantities = [5, 3]\\n\\nfor i in len(product_name):\\n  sales = prices[i] * quantities[i]\\n  print(sales) ',\n",
              "  'product_name = [\"요구르트\", \"우유\"]\\nprices = [1000, 1500]\\nquantities = [5, 3]\\n\\nfor i in range(product_name):\\n  sales = prices[i] * quantities[i]\\n  print(sales) ',\n",
              "  'product_name = [\"요구르트\", \"우유\"]\\nprices = [1000, 1500]\\nquantities = [5, 3]\\n\\nfor i in len(product_name):\\n  sales = prices[i] * quantities[i]\\n  print(sales) ',\n",
              "  'product_name = [\"요구르트\", \"우유\"]\\nprices = [1000, 1500]\\nquantities = [5, 3]\\n\\nfor i in len(product_name):\\n  sales = prices[i] * quantities[i]\\n  print(sales) ',\n",
              "  'product_name = [\"요구르트\", \"우유\"]\\nprices = [1000, 1500]\\nquantities = [5, 3]\\n\\nfor i in len(int(product_name)):\\n  sales = prices[i] * quantities[i]\\n  print(sales) ',\n",
              "  'product_name = [\"요구르트\", \"우유\"]\\nprices = [1000, 1500]\\nquantities = [5, 3]\\nlen = len(product_name)\\n\\nfor i in len:\\n  sales = prices[i] * quantities[i]\\n  print(sales) ',\n",
              "  'product_name = [\"요구르트\", \"우유\"]\\nprices = [1000, 1500]\\nquantities = [5, 3]\\nlen = len(product_name)\\nsales = [len]\\nfor i in len:\\n  sales = prices[i] * quantities[i]\\n  print(sales) ',\n",
              "  'product_name = [\"요구르트\", \"우유\"]\\nprices = [1000, 1500]\\nquantities = [5, 3]\\nlen = len(product_name)\\nsales = []\\nfor i in len:\\n  sales = prices[i] * quantities[i]\\n  print(sales) ',\n",
              "  'product_name = [\"요구르트\", \"우유\", \"과자\"]\\nprices = [1000, 1500, 2000]\\nquantities = [5, 3, 4]\\n\\nname = product_name[0]\\nsales = prices[0] * quantities[0]\\nprint(name + \"의 매출액은\" + str(sales) + \"원이다.\")\\n\\nname = product_name[1]\\nsales = prices[1] * quantities[1]\\nprint(name + \"의 매출액은\" + str(sales) + \"원이다.\")\\n\\n# 위 코드의 반복문 코드 작성 필요 절감\\nfor i in range(product_name):\\n  print(i)',\n",
              "  'product_name = [\"요구르트\", \"우유\", \"과자\"]\\nprices = [1000, 1500, 2000]\\nquantities = [5, 3, 4]\\n\\nname = product_name[0]\\nsales = prices[0] * quantities[0]\\nprint(name + \"의 매출액은\" + str(sales) + \"원이다.\")\\n\\nname = product_name[1]\\nsales = prices[1] * quantities[1]\\nprint(name + \"의 매출액은\" + str(sales) + \"원이다.\")\\n\\n# 위 코드의 반복문 코드 작성 필요 절감\\nfor i in range(len(product_name)):\\n  name = product_name[i]\\n  sales = prices[i] * quantities[i]\\n  print(name + \"의 매출액은\" + str(sales) + \"원이다.\")',\n",
              "  'product_name = [\"요구르트\", \"우유\", \"과자\"]\\nprices = [1000, 1500, 2000]\\nquantities = [5, 3, 4]\\n\\nname = product_name[0]\\nsales = prices[0] * quantities[0]\\nprint(name + \"의 매출액은\" + str(sales) + \"원이다.\")\\n\\nname = product_name[1]\\nsales = prices[1] * quantities[1]\\nprint(name + \"의 매출액은\" + str(sales) + \"원이다.\")\\n\\n# 위 코드의 반복문 코드 작성 필요 절감\\nfor i in range(len(product_name)):\\n  name = product_name[i]\\n  sales = prices[i] * quantities[i]\\n  print(name + \"의 매출액은\" + str(sales) + \"원이다.\")',\n",
              "  'product_name = [\"요구르트\", \"우유\", \"과자\"]\\nprices = [1000, 1500, 2000]\\nquantities = [5, 3, 4]\\n\\nname = product_name[0]\\nsales = prices[0] * quantities[0]\\nprint(name + \"의 매출액은\" + str(sales) + \"원이다.\")\\n\\nname = product_name[1]\\nsales = prices[1] * quantities[1]\\nprint(name + \"의 매출액은\" + str(sales) + \"원이다.\")\\n\\n# 위 코드의 반복문 코드 작성 필요 절감\\nfor i in range(len[product_name]):\\n  name = product_name[i]\\n  sales = prices[i] * quantities[i]\\n  print(name + \"의 매출액은\" + str(sales) + \"원이다.\")',\n",
              "  'product_name = [\"요구르트\", \"우유\", \"과자\"]\\nprices = [1000, 1500, 2000]\\nquantities = [5, 3, 4]\\n\\nname = product_name[0]\\nsales = prices[0] * quantities[0]\\nprint(name + \"의 매출액은\" + str(sales) + \"원이다.\")\\n\\nname = product_name[1]\\nsales = prices[1] * quantities[1]\\nprint(name + \"의 매출액은\" + str(sales) + \"원이다.\")\\n\\n# 위 코드의 반복문 코드 작성 필요 절감\\nfor i in range(len(product_name)):\\n  name = product_name[i]\\n  sales = prices[i] * quantities[i]\\n  print(name + \"의 매출액은\" + str(sales) + \"원이다.\")',\n",
              "  'product_name = [\"요구르트\", \"우유\", \"과자\"]\\nprices = [1000, 1500, 2000]\\nquantities = [5, 3, 4]\\n\\n# name = product_name[0]\\n# sales = prices[0] * quantities[0]\\n# print(name + \"의 매출액은\" + str(sales) + \"원이다.\")\\n\\n# name = product_name[1]\\n# sales = prices[1] * quantities[1]\\n# print(name + \"의 매출액은\" + str(sales) + \"원이다.\")\\n\\n# 위 코드의 반복문 코드 작성 필요 절감\\nfor i in range(len(product_name)):\\n  name = product_name[i]\\n  sales = prices[i] * quantities[i]\\n  print(name + \"의 매출액은\" + str(sales) + \"원이다.\")',\n",
              "  'product_name = [\"요구르트\", \"우유\", \"과자\"]\\nprices = [1000, 1500, 2000]\\nquantities = [5, 3, 4]\\nprint(len(product_name))\\n# name = product_name[0]\\n# sales = prices[0] * quantities[0]\\n# print(name + \"의 매출액은\" + str(sales) + \"원이다.\")\\n\\n# name = product_name[1]\\n# sales = prices[1] * quantities[1]\\n# print(name + \"의 매출액은\" + str(sales) + \"원이다.\")\\n\\n# 위 코드의 반복문 코드 작성 필요 절감\\nfor i in range(len(product_name)):\\n  name = product_name[i]\\n  sales = prices[i] * quantities[i]\\n  print(name + \"의 매출액은\" + str(sales) + \"원이다.\")',\n",
              "  'product_name = [\"요구르트\", \"우유\", \"과자\"]\\nprices = [1000, 1500, 2000]\\nquantities = [5, 3, 4]\\nprint(len(product_name))\\n# name = product_name[0]\\n# sales = prices[0] * quantities[0]\\n# print(name + \"의 매출액은\" + str(sales) + \"원이다.\")\\n\\n# name = product_name[1]\\n# sales = prices[1] * quantities[1]\\n# print(name + \"의 매출액은\" + str(sales) + \"원이다.\")\\n\\n# 위 코드의 반복문 코드 작성 필요 절감\\n# for i in range(len(product_name)):\\n#   name = product_name[i]\\n#   sales = prices[i] * quantities[i]\\n#   print(name + \"의 매출액은\" + str(sales) + \"원이다.\")',\n",
              "  'product_name = [\"요구르트\", \"우유\", \"과자\"]\\nprices = [1000, 1500, 2000]\\nquantities = [5, 3, 4]\\nprint(product_name)\\n# name = product_name[0]\\n# sales = prices[0] * quantities[0]\\n# print(name + \"의 매출액은\" + str(sales) + \"원이다.\")\\n\\n# name = product_name[1]\\n# sales = prices[1] * quantities[1]\\n# print(name + \"의 매출액은\" + str(sales) + \"원이다.\")\\n\\n# 위 코드의 반복문 코드 작성 필요 절감\\n# for i in range(len(product_name)):\\n#   name = product_name[i]\\n#   sales = prices[i] * quantities[i]\\n#   print(name + \"의 매출액은\" + str(sales) + \"원이다.\")',\n",
              "  'product_name = [\"요구르트\", \"우유\", \"과자\"]\\nprices = [1000, 1500, 2000]\\nquantities = [5, 3, 4]\\nprint(len(product_name))\\n# name = product_name[0]\\n# sales = prices[0] * quantities[0]\\n# print(name + \"의 매출액은\" + str(sales) + \"원이다.\")\\n\\n# name = product_name[1]\\n# sales = prices[1] * quantities[1]\\n# print(name + \"의 매출액은\" + str(sales) + \"원이다.\")\\n\\n# 위 코드의 반복문 코드 작성 필요 절감\\n# for i in range(len(product_name)):\\n#   name = product_name[i]\\n#   sales = prices[i] * quantities[i]\\n#   print(name + \"의 매출액은\" + str(sales) + \"원이다.\")',\n",
              "  'product_name = [\"요구르트\", \"우유\", \"과자\"]\\nprices = [1000, 1500, 2000]\\nquantities = [5, 3, 4]\\nprint(len(product_name))\\n# name = product_name[0]\\n# sales = prices[0] * quantities[0]\\n# print(name + \"의 매출액은\" + str(sales) + \"원이다.\")\\n\\n# name = product_name[1]\\n# sales = prices[1] * quantities[1]\\n# print(name + \"의 매출액은\" + str(sales) + \"원이다.\")\\n\\n# 위 코드의 반복문 코드 작성 필요 절감\\n# for i in range(len(product_name)):\\n#   name = product_name[i]\\n#   sales = prices[i] * quantities[i]\\n#   print(name + \"의 매출액은\" + str(sales) + \"원이다.\")',\n",
              "  'product_name = [\"요구르트\", \"우유\", \"과자\"]\\nprices = [1000, 1500, 2000]\\nquantities = [5, 3, 4]\\nprint(len(product_name))\\n# name = product_name[0]\\n# sales = prices[0] * quantities[0]\\n# print(name + \"의 매출액은\" + str(sales) + \"원이다.\")\\n\\n# name = product_name[1]\\n# sales = prices[1] * quantities[1]\\n# print(name + \"의 매출액은\" + str(sales) + \"원이다.\")\\n\\n# 위 코드의 반복문 코드 작성 필요 절감\\n# for i in range(len(product_name)):\\n#   name = product_name[i]\\n#   sales = prices[i] * quantities[i]\\n#   print(name + \"의 매출액은\" + str(sales) + \"원이다.\")',\n",
              "  'product_name = [\"요구르트\", \"우유\", \"과자\"]\\nprices = [1000, 1500, 2000]\\nquantities = [5, 3, 4]\\nprint(len(prices))\\n# name = product_name[0]\\n# sales = prices[0] * quantities[0]\\n# print(name + \"의 매출액은\" + str(sales) + \"원이다.\")\\n\\n# name = product_name[1]\\n# sales = prices[1] * quantities[1]\\n# print(name + \"의 매출액은\" + str(sales) + \"원이다.\")\\n\\n# 위 코드의 반복문 코드 작성 필요 절감\\n# for i in range(len(product_name)):\\n#   name = product_name[i]\\n#   sales = prices[i] * quantities[i]\\n#   print(name + \"의 매출액은\" + str(sales) + \"원이다.\")',\n",
              "  'count = 1\\nwhile count < 5:\\n  count += 1\\n  print(count)',\n",
              "  'product_name = [\"요구르트\", \"우유\", \"과자\"]\\nprices = [1000, 1500, 2000]\\nquantities = [5, 3, 4]\\nprint(len(prices))',\n",
              "  'count = 1\\nwhile count <= 5:\\n  print(\"안녕하세요..\")\\n  count += 1\\n  print(count)\\n\\nprint(\"5 초과 했군요..\")',\n",
              "  'product_name = [\"요구르트\", \"우유\", \"과자\"]\\nprices = [1000, 1500, 2000]\\nquantities = [5, 3, 4]\\nprint(len(product_name))\\n# name = product_name[0]\\n# sales = prices[0] * quantities[0]\\n# print(name + \"의 매출액은\" + str(sales) + \"원이다.\")\\n\\n# name = product_name[1]\\n# sales = prices[1] * quantities[1]\\n# print(name + \"의 매출액은\" + str(sales) + \"원이다.\")\\n\\n# 위 코드의 반복문 코드 작성 필요 절감\\n# for i in range(len(product_name)):\\n#   name = product_name[i]\\n#   sales = prices[i] * quantities[i]\\n#   print(name + \"의 매출액은\" + str(sales) + \"원이다.\")',\n",
              "  'product_name = [\"요구르트\", \"우유\", \"과자\"]\\nprices = [1000, 1500, 2000]\\nquantities = [5, 3, 4]\\nprint(len[1, 2, 3])\\n# name = product_name[0]\\n# sales = prices[0] * quantities[0]\\n# print(name + \"의 매출액은\" + str(sales) + \"원이다.\")\\n\\n# name = product_name[1]\\n# sales = prices[1] * quantities[1]\\n# print(name + \"의 매출액은\" + str(sales) + \"원이다.\")\\n\\n# 위 코드의 반복문 코드 작성 필요 절감\\n# for i in range(len(product_name)):\\n#   name = product_name[i]\\n#   sales = prices[i] * quantities[i]\\n#   print(name + \"의 매출액은\" + str(sales) + \"원이다.\")',\n",
              "  'product_name = [\"요구르트\", \"우유\", \"과자\"]\\nprices = [1000, 1500, 2000]\\nquantities = [5, 3, 4]\\nprint(type(product_name))\\n# name = product_name[0]\\n# sales = prices[0] * quantities[0]\\n# print(name + \"의 매출액은\" + str(sales) + \"원이다.\")\\n\\n# name = product_name[1]\\n# sales = prices[1] * quantities[1]\\n# print(name + \"의 매출액은\" + str(sales) + \"원이다.\")\\n\\n# 위 코드의 반복문 코드 작성 필요 절감\\n# for i in range(len(product_name)):\\n#   name = product_name[i]\\n#   sales = prices[i] * quantities[i]\\n#   print(name + \"의 매출액은\" + str(sales) + \"원이다.\")',\n",
              "  'product_name = [\"요구르트\", \"우유\", \"과자\"]\\nprices = [1000, 1500, 2000]\\nquantities = [5, 3, 4]\\nprint(len(product_name))\\n# name = product_name[0]\\n# sales = prices[0] * quantities[0]\\n# print(name + \"의 매출액은\" + str(sales) + \"원이다.\")\\n\\n# name = product_name[1]\\n# sales = prices[1] * quantities[1]\\n# print(name + \"의 매출액은\" + str(sales) + \"원이다.\")\\n\\n# 위 코드의 반복문 코드 작성 필요 절감\\n# for i in range(len(product_name)):\\n#   name = product_name[i]\\n#   sales = prices[i] * quantities[i]\\n#   print(name + \"의 매출액은\" + str(sales) + \"원이다.\")',\n",
              "  'count = 3\\nwhile count > 0:\\n  print(\"안녕하세요..\")\\n  count -= 1\\n  print(count)',\n",
              "  'product_name = [\"요구르트\", \"우유\", \"과자\"]\\nprices = [1000, 1500, 2000]\\nquantities = [5, 3, 4]\\na = [1, 2, 3]\\nprint(len(a))\\n# name = product_name[0]\\n# sales = prices[0] * quantities[0]\\n# print(name + \"의 매출액은\" + str(sales) + \"원이다.\")\\n\\n# name = product_name[1]\\n# sales = prices[1] * quantities[1]\\n# print(name + \"의 매출액은\" + str(sales) + \"원이다.\")\\n\\n# 위 코드의 반복문 코드 작성 필요 절감\\n# for i in range(len(product_name)):\\n#   name = product_name[i]\\n#   sales = prices[i] * quantities[i]\\n#   print(name + \"의 매출액은\" + str(sales) + \"원이다.\")',\n",
              "  'product_name = [\"요구르트\", \"우유\", \"과자\"]\\nprices = [1000, 1500, 2000]\\nquantities = [5, 3, 4]\\na = [1, 2, 3]\\nprint(1)\\n# name = product_name[0]\\n# sales = prices[0] * quantities[0]\\n# print(name + \"의 매출액은\" + str(sales) + \"원이다.\")\\n\\n# name = product_name[1]\\n# sales = prices[1] * quantities[1]\\n# print(name + \"의 매출액은\" + str(sales) + \"원이다.\")\\n\\n# 위 코드의 반복문 코드 작성 필요 절감\\n# for i in range(len(product_name)):\\n#   name = product_name[i]\\n#   sales = prices[i] * quantities[i]\\n#   print(name + \"의 매출액은\" + str(sales) + \"원이다.\")',\n",
              "  'product_name = [\"요구르트\", \"우유\", \"과자\"]\\nprices = [1000, 1500, 2000]\\nquantities = [5, 3, 4]\\na = [1, 2, 3]\\nprint(len(a))\\n# name = product_name[0]\\n# sales = prices[0] * quantities[0]\\n# print(name + \"의 매출액은\" + str(sales) + \"원이다.\")\\n\\n# name = product_name[1]\\n# sales = prices[1] * quantities[1]\\n# print(name + \"의 매출액은\" + str(sales) + \"원이다.\")\\n\\n# 위 코드의 반복문 코드 작성 필요 절감\\n# for i in range(len(product_name)):\\n#   name = product_name[i]\\n#   sales = prices[i] * quantities[i]\\n#   print(name + \"의 매출액은\" + str(sales) + \"원이다.\")',\n",
              "  'product_name = [\"요구르트\", \"우유\", \"과자\"]\\nprices = [1000, 1500, 2000]\\nquantities = [5, 3, 4]\\na = [1, 2, 3]\\ndel len\\nprint(len(a))\\n# name = product_name[0]\\n# sales = prices[0] * quantities[0]\\n# print(name + \"의 매출액은\" + str(sales) + \"원이다.\")\\n\\n# name = product_name[1]\\n# sales = prices[1] * quantities[1]\\n# print(name + \"의 매출액은\" + str(sales) + \"원이다.\")\\n\\n# 위 코드의 반복문 코드 작성 필요 절감\\n# for i in range(len(product_name)):\\n#   name = product_name[i]\\n#   sales = prices[i] * quantities[i]\\n#   print(name + \"의 매출액은\" + str(sales) + \"원이다.\")',\n",
              "  'product_name = [\"요구르트\", \"우유\", \"과자\"]\\nprices = [1000, 1500, 2000]\\nquantities = [5, 3, 4]\\na = [1, 2, 3]\\ndel len\\nprint(len(product_name))\\n# name = product_name[0]\\n# sales = prices[0] * quantities[0]\\n# print(name + \"의 매출액은\" + str(sales) + \"원이다.\")\\n\\n# name = product_name[1]\\n# sales = prices[1] * quantities[1]\\n# print(name + \"의 매출액은\" + str(sales) + \"원이다.\")\\n\\n# 위 코드의 반복문 코드 작성 필요 절감\\n# for i in range(len(product_name)):\\n#   name = product_name[i]\\n#   sales = prices[i] * quantities[i]\\n#   print(name + \"의 매출액은\" + str(sales) + \"원이다.\")',\n",
              "  'product_name = [\"요구르트\", \"우유\", \"과자\"]\\nprices = [1000, 1500, 2000]\\nquantities = [5, 3, 4]\\na = [1, 2, 3]\\nprint(len(product_name))\\n# name = product_name[0]\\n# sales = prices[0] * quantities[0]\\n# print(name + \"의 매출액은\" + str(sales) + \"원이다.\")\\n\\n# name = product_name[1]\\n# sales = prices[1] * quantities[1]\\n# print(name + \"의 매출액은\" + str(sales) + \"원이다.\")\\n\\n# 위 코드의 반복문 코드 작성 필요 절감\\n# for i in range(len(product_name)):\\n#   name = product_name[i]\\n#   sales = prices[i] * quantities[i]\\n#   print(name + \"의 매출액은\" + str(sales) + \"원이다.\")',\n",
              "  'product_name = [\"요구르트\", \"우유\", \"과자\"]\\nprices = [1000, 1500, 2000]\\nquantities = [5, 3, 4]\\na = [1, 2, 3]\\n# name = product_name[0]\\n# sales = prices[0] * quantities[0]\\n# print(name + \"의 매출액은\" + str(sales) + \"원이다.\")\\n\\n# name = product_name[1]\\n# sales = prices[1] * quantities[1]\\n# print(name + \"의 매출액은\" + str(sales) + \"원이다.\")\\n\\n# 위 코드의 반복문 코드 작성 필요 절감\\nfor i in range(len(product_name)):\\n  name = product_name[i]\\n  sales = prices[i] * quantities[i]\\n  print(name + \"의 매출액은\" + str(sales) + \"원이다.\")',\n",
              "  'def add(a, b):\\n  c = a + b\\n  return c\\n\\nadd(1, 2)',\n",
              "  'def subtraction(a, b):\\n  c = a - b\\n  return C\\n\\nsubtraction(4, 3)',\n",
              "  'def subtraction(a, b):\\n  c = a - b\\n  return c\\n\\nsubtraction(4, 3)',\n",
              "  'def add(a, b):\\n  c = a + b\\n  return c\\n\\nadd(1, 2)\\n\\ndef subtraction(a, b):\\n  c = a - b\\n  return c\\n\\nsubtraction(4, 3)',\n",
              "  'def multiplication(a, b):\\n  c = a * b\\n  return c\\n\\nmultiplication(1, 3)',\n",
              "  'def multiplication(a, b):\\n  c = a * b\\n  return c\\n\\nmultiplication(5, 3)',\n",
              "  'def division(a, b):\\n  c = a / b\\n  return c\\n\\ndivision(15,5)',\n",
              "  'def add(a, b):\\n  c = a + b\\n  return c\\n\\nadd(1, 2)\\n\\ndef subtraction(a, b):\\n  c = a - b\\n  return c\\n\\nsubtraction(4, 3)',\n",
              "  'def add(a, b):\\n  c = a + b\\n  return c\\n\\nadd(1, 2)\\n\\ndef subtraction(a, b):\\n  c = a - b\\n  return c\\n\\nsubtraction(4, 3)',\n",
              "  '# /user/local/bin/python\\n\\n\\ndef add(a, b):\\n  c = a + b\\n  return c\\n\\nif __name__ == \"__main__\":\\n  a = 1\\n  b = 2\\n  c = add(a, b)\\n  print(c)',\n",
              "  '# /user/local/bin/python\\n\\n\\ndef add(a, b):\\n  \"\"\"a와 b를 합산하는 함수입니다.\"\"\"\\n  c = a + b\\n  return c\\n\\nif __name__ == \"__main__\":\\n  a = 1\\n  b = 2\\n  c = add(a, b)\\n  print(c)\\n  help(add(a, b))',\n",
              "  '# /user/local/bin/python\\n\\n\\ndef add_number(a, b):\\n  \"\"\"a와 b를 합산하는 함수입니다.\"\"\"\\n  c = a + b\\n  return c\\n\\nif __name__ == \"__main__\":\\n  a = 1\\n  b = 2\\n  c = add_number(a, b)\\n  print(c)\\n  helpadd_number(a, b)',\n",
              "  '# /user/local/bin/python\\n\\n\\ndef add_number(a, b):\\n  \"\"\"a와 b를 합산하는 함수입니다.\"\"\"\\n  c = a + b\\n  return c\\n\\nif __name__ == \"__main__\":\\n  a = 1\\n  b = 2\\n  c = add_number(a, b)\\n  print(c)\\n  help(add_number(a, b))',\n",
              "  '# /user/local/bin/python\\n\\n\\ndef temp(a, b):\\n  \"\"\"a와 b를 합산하는 함수입니다.\"\"\"\\n  print(\"함수 테스트\")\\n  return None\\n\\nif __name__ == \"__main__\":\\n  help(temp())',\n",
              "  '# /user/local/bin/python\\n\\n\\ndef temp():\\n  \"\"\"a와 b를 합산하는 함수입니다.\"\"\"\\n  print(\"함수 테스트\")\\n  return None\\n\\nif __name__ == \"__main__\":\\n  help(temp())',\n",
              "  '# /user/local/bin/python\\n\\n\\ndef temp(content, letter):\\n  \"\"\"content안에 있는 문자를 세는 함수입니다.\\n  \\n  Args:\\n    content(str) : 탐색 문자열\\n    letter(str) : 찾을 문자열\\n\\n  Returns:\\n    int\\n  \"\"\"\\n\\n  print(\"함수 테스트\")\\n\\n  cnt = len([char for char in content if char == letter])\\n  return cnt\\n\\nif __name__ == \"__main__\":\\n  help(temp)',\n",
              "  '# /user/local/bin/python\\n\\n# docstring\\ndef temp(content, letter):\\n  \"\"\"content안에 있는 문자를 세는 함수입니다.\\n  \\n  Args:\\n    content(str) : 탐색 문자열\\n    letter(str) : 찾을 문자열\\n\\n  Returns:\\n    int\\n  \"\"\"\\n\\n  print(\"함수 테스트\")\\n\\n  cnt = len([char for char in content if char == letter])\\n  return cnt\\n\\nif __name__ == \"__main__\":\\n  help(temp)\\n  docstring = temp.__doc__\\n  print(docstring)',\n",
              "  'my_list = [[10], [20, 30]]\\nprint(my_list)',\n",
              "  'my_list = [[10], [20, 30]]\\nprint(my_list)\\n\\nfor value_list in my_list:\\n  print(value_list)\\n\\n# 결괏값 : [10, 20 ,30]',\n",
              "  'my_list = [[10], [20, 30]]\\n# print(my_list)\\n\\nflattened_list = []\\nfor value_list in my_list:\\n  print(value_list)\\n  for value in value_list:\\n    print(value)\\n    # flattened_list.append(value)\\n# 결괏값 : [10, 20 ,30]',\n",
              "  'my_list = [[10], [20, 30]]\\n# print(my_list)\\n\\nflattened_list = []\\nfor value_list in my_list:\\n  # print(value_list)\\n  for value in value_list:\\n    print(value)\\n    # flattened_list.append(value)\\n# 결괏값 : [10, 20 ,30]',\n",
              "  'my_list = [[10], [20, 30]]\\n# print(my_list)\\n\\nflattened_list = []\\nfor value_list in my_list:\\n  # print(value_list)\\n  for value in value_list:\\n    print(value)\\n    flattened_list.append(value)\\n\\nprint(flattened_list)\\n# 결괏값 : [10, 20 ,30]',\n",
              "  'my_list = [[10], [20, 30]]\\n# print(my_list)\\n\\nflattened_list = []\\nfor value_list in my_list:\\n  print(value_list)\\n  for value in value_list:\\n    # print(value)\\n    flattened_list.append(value)\\n\\n# print(flattened_list)\\n# 결괏값 : [10, 20 ,30]',\n",
              "  'my_list = [[10], [20, 30]]\\n# print(my_list)\\n\\nflattened_list = []\\nfor value_list in my_list:\\n  # print(value_list)\\n  for value in value_list:\\n    print(value)\\n    flattened_list.append(value)\\n\\n# print(flattened_list)\\n# 결괏값 : [10, 20 ,30]',\n",
              "  'my_list = [[10], [20, 30]]\\nflattened_list = [value for value_list in my_list for value in value_list]\\nprint(flattened_list)',\n",
              "  'letters = []\\nfor char in \"helloworld\":\\n  letters.append(char)\\nprint(letters)',\n",
              "  'letters2 = [char for char in \"helloworld\":]\\nprint(letters2)',\n",
              "  'letters2 = [char for char in \"helloworld\"]\\nprint(letters2)',\n",
              "  'value_list = [1, 2, 3, 4, 5]\\nprint(sum(value_list))',\n",
              "  'value_list = [1, 2, 3, 4, 5]\\nprint(sum(value_list) / len(value_list))',\n",
              "  'value_list = [1, 2, 3, 4, 5]\\nprint(\"avg: \", sum(value_list) / len(value_list))',\n",
              "  'value_list = [1, 2, 3, 4, 5]\\nprint(\"avg:\", sum(value_list) / len(value_list))',\n",
              "  'value_list = [1, 2, 3, 4, 5]\\nprint(\"avg:\", sum(value_list) / len(value_list))\\n# 중간값\\n\\nmidpoint = int(len(value_list) / 2)\\nprint(midpoint)',\n",
              "  'value_list = [1, 2, 3, 4, 5, 6]\\nprint(\"avg:\", sum(value_list) / len(value_list))\\n# 중간값\\n\\nmidpoint = int(len(value_list) / 2)\\n# len(value_list) % 2 == 0:\\n(value_list[midpoint - 1] + value_list[midpoint]) / 2\\nprint(midpoint)',\n",
              "  'value_list = [1, 2, 3, 4, 5, 6]\\nprint(\"avg:\", sum(value_list) / len(value_list))\\n# 중간값\\n\\nmidpoint = int(len(value_list) / 2)\\n# len(value_list) % 2 == 0:\\nprint((value_list[midpoint - 1] + value_list[midpoint]) / 2)\\nprint(midpoint)',\n",
              "  'value_list = [1, 2, 3, 4, 5, 6]\\nprint(\"avg:\", sum(value_list) / len(value_list))\\n# 중간값\\n\\nmidpoint = int(len(value_list) / 2)\\n# len(value_list) % 2 == 0:\\nprint((value_list[midpoint - 1] + value_list[midpoint]) / 2)\\nprint(value_list[midpoint])',\n",
              "  'value_list = [1, 2, 3, 4, 5, 6]\\nprint(\"avg:\", sum(value_list) / len(value_list))\\n# 중간값\\n\\nmidpoint = int(len(value_list) / 2)\\n# len(value_list) % 2 == 0:\\nprint((value_list[midpoint - 1] + value_list[midpoint]) / 2)\\nprint(value_list[midpoint])\\n\\ndef mean_and_median(value_lish):\\n  \"\"\" 숫자 리스트 요소들의 평균과 중간값을 구하는 코드를 작성해라\\n  Args:\\n    value_list (iterable of int / float): A list of int numbers\\n  \\n  Returns:\\n    tuple(float, float)\\n  \"\"\"\\n  # 평균\\n  mean = sum(values) / len(values)\\n  # 중간값\\n  midpoint = int(len(value_list) / 2) / 2)\\n  if len(value_list) % 2 == 0:\\n    median = (values[midpoint - 1] + value_list[midpoint]) / 2\\n  else:\\n    median = value_list[midpoint]\\n\\n  return mean, median',\n",
              "  'value_list = [1, 2, 3, 4, 5, 6]\\nprint(\"avg:\", sum(value_list) / len(value_list))\\n# 중간값\\n\\nmidpoint = int(len(value_list) / 2)\\n# len(value_list) % 2 == 0:\\nprint((value_list[midpoint - 1] + value_list[midpoint]) / 2)\\nprint(value_list[midpoint])\\n\\ndef mean_and_median(value_list):\\n  \"\"\" 숫자 리스트 요소들의 평균과 중간값을 구하는 코드를 작성해라\\n  Args:\\n    value_list (iterable of int / float): A list of int numbers\\n  \\n  Returns:\\n    tuple(float, float)\\n  \"\"\"\\n  # 평균\\n  mean = sum(values) / len(values)\\n  # 중간값\\n  midpoint = int(len(value_list) / 2) / 2)\\n  if len(value_list) % 2 == 0:\\n    median = (values[midpoint - 1] + value_list[midpoint]) / 2\\n  else:\\n    median = value_list[midpoint]\\n\\n  return mean, median\\n\\nif __name__ == \"__main__\":\\n  value_list = [1, 1, 2, 2, 3, 4, 5]\\n  avg, median = mean_and_median(value_list)\\n  print(\"avg:\", avg)\\n  print(\"median:\", median)',\n",
              "  'value_list = [1, 2, 3, 4, 5, 6]\\nprint(\"avg:\", sum(value_list) / len(value_list))\\n# 중간값\\n\\nmidpoint = int(len(value_list) / 2)\\n# len(value_list) % 2 == 0:\\nprint((value_list[midpoint - 1] + value_list[midpoint]) / 2)\\nprint(value_list[midpoint])\\n\\ndef mean_and_median(value_list):\\n  \"\"\" 숫자 리스트 요소들의 평균과 중간값을 구하는 코드를 작성해라\\n  Args:\\n    value_list (iterable of int / float): A list of int numbers\\n  \\n  Returns:\\n    tuple(float, float)\\n  \"\"\"\\n  # 평균\\n  mean = sum(values) / len(values)\\n  # 중간값\\n  midpoint = int(len(value_list) / 2)\\n  if len(value_list) % 2 == 0:\\n    median = (values[midpoint - 1] + value_list[midpoint]) / 2\\n  else:\\n    median = value_list[midpoint]\\n\\n  return mean, median\\n\\nif __name__ == \"__main__\":\\n  value_list = [1, 1, 2, 2, 3, 4, 5]\\n  avg, median = mean_and_median(value_list)\\n  print(\"avg:\", avg)\\n  print(\"median:\", median)',\n",
              "  'value_list = [1, 2, 3, 4, 5, 6]\\nprint(\"avg:\", sum(value_list) / len(value_list))\\n# 중간값\\n\\nmidpoint = int(len(value_list) / 2)\\n# len(value_list) % 2 == 0:\\nprint((value_list[midpoint - 1] + value_list[midpoint]) / 2)\\nprint(value_list[midpoint])\\n\\ndef mean_and_median(value_list):\\n  \"\"\" 숫자 리스트 요소들의 평균과 중간값을 구하는 코드를 작성해라\\n  Args:\\n    value_list (iterable of int / float): A list of int numbers\\n  \\n  Returns:\\n    tuple(float, float)\\n  \"\"\"\\n  # 평균\\n  mean = sum(value_list) / len(value_list)\\n  # 중간값\\n  midpoint = int(len(value_list) / 2)\\n  if len(value_list) % 2 == 0:\\n    median = (values[midpoint - 1] + value_list[midpoint]) / 2\\n  else:\\n    median = value_list[midpoint]\\n\\n  return mean, median\\n\\nif __name__ == \"__main__\":\\n  value_list = [1, 1, 2, 2, 3, 4, 5]\\n  avg, median = mean_and_median(value_list)\\n  print(\"avg:\", avg)\\n  print(\"median:\", median)',\n",
              "  'value_list = [1, 2, 3, 4, 5, 6]\\nprint(sum(value_list))\\n# print(\"avg:\", sum(value_list) / len(value_list))\\n# 중간값\\n\\nmidpoint = int(len(value_list) / 2)\\n# len(value_list) % 2 == 0:\\nprint((value_list[midpoint - 1] + value_list[midpoint]) / 2)\\nprint(value_list[midpoint])\\n\\ndef mean_and_median(value_list):\\n  \"\"\" 숫자 리스트 요소들의 평균과 중간값을 구하는 코드를 작성해라\\n  Args:\\n    value_list (iterable of int / float): A list of int numbers\\n  \\n  Returns:\\n    tuple(float, float)\\n  \"\"\"\\n  # 평균\\n  mean = sum(value_list) / len(value_list)\\n  # 중간값\\n  midpoint = int(len(value_list) / 2)\\n  if len(value_list) % 2 == 0:\\n    median = (values[midpoint - 1] + value_list[midpoint]) / 2\\n  else:\\n    median = value_list[midpoint]\\n\\n  return mean, median\\n\\nif __name__ == \"__main__\":\\n  value_list = [1, 1, 2, 2, 3, 4, 5]\\n  avg, median = mean_and_median(value_list)\\n  print(\"avg:\", avg)\\n  print(\"median:\", median)',\n",
              "  'value_list = [1, 2, 3, 4, 5, 6]\\nprint(\"avg:\", sum(value_list) / len(value_list))\\n\\n# 중간값\\nmidpoint = int(len(value_list) / 2)\\n# len(value_list) % 2 == 0:\\nprint((value_list[midpoint - 1] + value_list[midpoint]) / 2)\\nprint(value_list[midpoint])\\n\\ndef mean_and_median(value_list):\\n  \"\"\" 숫자 리스트 요소들의 평균과 중간값을 구하는 코드를 작성해라\\n  Args:\\n    value_list (iterable of int / float): A list of int numbers\\n  \\n  Returns:\\n    tuple(float, float)\\n  \"\"\"\\n  # 평균\\n  mean = sum(value_list) / len(value_list)\\n  # 중간값\\n  midpoint = int(len(value_list) / 2)\\n  if len(value_list) % 2 == 0:\\n    median = (values[midpoint - 1] + value_list[midpoint]) / 2\\n  else:\\n    median = value_list[midpoint]\\n\\n  return mean, median\\n\\nif __name__ == \"__main__\":\\n  value_list = [1, 1, 2, 2, 3, 4, 5]\\n  avg, median = mean_and_median(value_list)\\n  print(\"avg:\", avg)\\n  print(\"median:\", median)',\n",
              "  'value_list = [1, 2, 3, 4, 5, 6]\\nprint(\"avg:\", sum(value_list) / len(value_list))\\n\\n# 중간값\\nmidpoint = int(len(value_list) / 2)\\n# len(value_list) % 2 == 0:\\nprint((value_list[midpoint - 1] + value_list[midpoint]) / 2)\\nprint(value_list[midpoint])\\n\\ndef mean_and_median(value_list):\\n  \"\"\" 숫자 리스트 요소들의 평균과 중간값을 구하는 코드를 작성해라\\n  Args:\\n    value_list (iterable of int / float): A list of int numbers\\n  \\n  Returns:\\n    tuple(float, float)\\n  \"\"\"\\n  # 평균\\n  mean = sum(value_list) / len(value_list)\\n  # 중간값\\n  midpoint = int(len(value_list) / 2)\\n  if len(value_list) % 2 == 0:\\n    median = (value_list[midpoint - 1] + value_list[midpoint]) / 2\\n  else:\\n    median = value_list[midpoint]\\n\\n  return mean, median\\n\\nif __name__ == \"__main__\":\\n  value_list = [1, 1, 2, 2, 3, 4, 5]\\n  avg, median = mean_and_median(value_list)\\n  print(\"avg:\", avg)\\n  print(\"median:\", median)',\n",
              "  'students = [1, 2, 3, 4, 5, 6, 7, 8]\\nprint(\"avg:\", sum(students) / len(students))',\n",
              "  'value_list = [1, 2, 3, 4, 5, 6, 7, 8, 9]\\nprint(\"avg:\", sum(value_list) / len(value_list))',\n",
              "  'value_list = [1, 2, 3, 4, 5, 6, 7, 8, 9]\\nprint(\"avg:\", sum(value_list) / len(value_list))\\n\\nmidpoint = value_list[len(value_list)]\\nprint(midpoint)',\n",
              "  'value_list = [1, 2, 3, 4, 5, 6, 7, 8, 9]\\nprint(\"avg:\", sum(value_list) / len(value_list))\\n\\nmidpoint = value_list[len(value_list) / 2]\\nprint(midpoint)',\n",
              "  'value_list = [1, 2, 3, 4, 5, 6, 7, 8, 9]\\nprint(\"avg:\", sum(value_list) / len(value_list))\\n\\nmidpoint = int(len(value_list) / 2)\\nprint(midpoint)',\n",
              "  'value_list = [1, 2, 3, 4, 5, 6, 7, 8, 9]\\nprint(\"avg:\", sum(value_list) / len(value_list))\\n\\nmidpoint = int(len(value_list) / 2)\\nprint(midpoint)\\n\\ndef mean_and_median(value_list):\\n  \"\"\" 숫자 리스트 요소들의 평균값과 중간값을 구하는 코드를 작성해라 \\n  \\n  Args:\\n    value_list (iterable of int / float): A list of int numbers\\n\\n  Returns:\\n    tuple(float, float)\\n  \"\"\"\\n  # 평균\\n  mean = sum(value_list) / len(value_list)\\n  print(mean)',\n",
              "  'value_list = [1, 2, 3, 4, 5, 6, 7, 8, 9]\\n# print(\"avg:\", sum(value_list) / len(value_list))\\n\\nmidpoint = int(len(value_list) / 2)\\n# print(midpoint)\\n\\ndef mean_and_median(value_list):\\n  \"\"\" 숫자 리스트 요소들의 평균값과 중간값을 구하는 코드를 작성해라 \\n  \\n  Args:\\n    value_list (iterable of int / float): A list of int numbers\\n\\n  Returns:\\n    tuple(float, float)\\n  \"\"\"\\n  # 평균\\n  mean = sum(value_list) / len(value_list)\\n  print(mean)',\n",
              "  'value_list = [1, 2, 3, 4, 5, 6, 7, 8, 9]\\n# print(\"avg:\", sum(value_list) / len(value_list))\\n\\nmidpoint = int(len(value_list) / 2)\\n# print(midpoint)\\n\\ndef mean_and_median(value_list):\\n  \"\"\" 숫자 리스트 요소들의 평균값과 중간값을 구하는 코드를 작성해라 \\n  \\n  Args:\\n    value_list (iterable of int / float): A list of int numbers\\n\\n  Returns:\\n    tuple(float, float)\\n  \"\"\"\\n  # 평균\\n  mean = sum(value_list) / len(value_list)\\n  # 중간값\\n  median = len(value_list) / 2',\n",
              "  'value_list = [1, 2, 3, 4, 5, 6, 7, 8, 9]\\n# print(\"avg:\", sum(value_list) / len(value_list))\\n\\nmidpoint = int(len(value_list) / 2)\\n# print(midpoint)\\n\\ndef mean_and_median(value_list):\\n  \"\"\" 숫자 리스트 요소들의 평균값과 중간값을 구하는 코드를 작성해라 \\n  \\n  Args:\\n    value_list (iterable of int / float): A list of int numbers\\n\\n  Returns:\\n    tuple(float, float)\\n  \"\"\"\\n  # 평균\\n  mean = sum(value_list) / len(value_list)\\n  # 중간값\\n  midpoint = int(len(value_list) / 2)\\n  if len(value_list) % 2 == 0:\\n    median = (value_list[midpoint-1] + value_list[midpoint]) / 2\\n  else:\\n    median = value_list[midpoint]\\n  \\n  return mean , median\\n  ',\n",
              "  'value_list = [1, 2, 3, 4, 5, 6]\\nprint(\"avg:\", sum(value_list) / len(value_list))\\n\\n# 중간값\\nmidpoint = int(len(value_list) / 2)\\n# len(value_list) % 2 == 0:\\nprint((value_list[midpoint - 1] + value_list[midpoint]) / 2)\\nprint(value_list[midpoint])\\n\\ndef mean_and_median(value_list):\\n  \"\"\" 숫자 리스트 요소들의 평균과 중간값을 구하는 코드를 작성해라\\n  Args:\\n    value_list (iterable of int / float): A list of int numbers\\n  \\n  Return:\\n    tuple(float, float)\\n  \"\"\"\\n  # 평균\\n  mean = sum(value_list) / len(value_list)\\n  # 중간값\\n  midpoint = int(len(value_list) / 2)\\n  if len(value_list) % 2 == 0:\\n    median = (value_list[midpoint - 1] + value_list[midpoint]) / 2\\n  else:\\n    median = value_list[midpoint]\\n\\n  return mean, median\\n\\nif __name__ == \"__main__\":\\n  value_lists = [1, 1, 2, 2, 3, 4, 5]\\n  avg, median = mean_and_median(value_lists)\\n  print(\"avg:\", avg)\\n  print(\"median:\", median)',\n",
              "  'value_list = [1, 2, 3, 4, 5, 6, 7, 8, 9]\\n# print(\"avg:\", sum(value_list) / len(value_list))\\n\\nmidpoint = int(len(value_list) / 2)\\n# print(midpoint)\\n\\ndef mean_and_median(value_list):\\n  \"\"\" 숫자 리스트 요소들의 평균값과 중간값을 구하는 코드를 작성해라 \\n  \\n  Args:\\n    value_list (iterable of int / float): A list of int numbers\\n\\n  Returns:\\n    tuple(float, float)\\n  \"\"\"\\n  # 평균\\n  mean = sum(value_list) / len(value_list)\\n  # 중간값\\n  midpoint = int(len(value_list) / 2)\\n  if len(value_list) % 2 == 0:\\n    median = (value_list[midpoint-1] + value_list[midpoint]) / 2\\n  else:\\n    median = value_list[midpoint]\\n  \\n  return mean , median\\n\\nif __name__ == \"__main__\":\\n  value_lists = [1,1,2,3,5,5]\\n  avg, median = mean_and_median(value_lists)\\n  print(\"avg:\", avg)\\n  print(\"median:\", median)',\n",
              "  'value_list = [1, 2, 3, 4, 5, 6, 7, 8, 9]\\n# print(\"avg:\", sum(value_list) / len(value_list))\\n\\nmidpoint = int(len(value_list) / 2)\\n# print(midpoint)\\n\\ndef mean_and_median(value_list):\\n  \"\"\" 숫자 리스트 요소들의 평균값과 중간값을 구하는 코드를 작성해라 \\n  \\n  Args:\\n    value_list (iterable of int / float): A list of int numbers\\n\\n  Returns:\\n    tuple(float, float)\\n  \"\"\"\\n  # 평균\\n  mean = sum(value_list) / len(value_list)\\n  # 중간값\\n  midpoint = int(len(value_list) / 2)\\n  if len(value_list) % 2 == 0:\\n    median = (value_list[midpoint-1] + value_list[midpoint]) / 2\\n  else:\\n    median = value_list[midpoint]\\n  \\n  return mean , median\\n\\nif __name__ == \"__main__\":\\n  value_list = [1,1,2,3,5,5]\\n  avg, median = mean_and_median(value_list)\\n  print(\"avg:\", avg)\\n  print(\"median:\", median)',\n",
              "  'my_list = [[10], [20, 30]]\\n# print(my_list)\\n\\nflattened_list = []\\nfor value_list in my_list:\\n  print(value_list)\\n  for value in value_list:\\n    # print(value)\\n    flattened_list.append(value)\\n\\nprint(flattened_list)\\n# 결괏값 : [10, 20 ,30]',\n",
              "  'x = 10\\ndef foo():\\n  x = 20\\n  print(x)\\n\\nprint(x)',\n",
              "  'x = 10\\ndef foo():\\n  x = 20\\n  print(x)\\n\\nprint(x)\\nfoo()',\n",
              "  'x = 10\\ndef foo():\\n  x = 20\\n  global x\\n  print(x)\\n\\nprint(x)\\nfoo()',\n",
              "  'x = 10\\ndef foo():\\n  global x\\n  x = 20\\n  print(x)\\n\\nprint(x)\\nfoo()',\n",
              "  'x = 10\\ndef foo():\\n  global x # 전역 변수를 설정하겠다\\n  x = 20\\n  print(x)\\n\\nprint(x)\\nfoo()\\nlocals()'],\n",
              " '_ii': 'x = 10\\ndef foo():\\n  x = 20\\n  global x\\n  print(x)\\n\\nprint(x)\\nfoo()',\n",
              " '_iii': 'x = 10\\ndef foo():\\n  x = 20\\n  print(x)\\n\\nprint(x)\\nfoo()',\n",
              " '_oh': {54: 3, 56: 1, 57: 1, 58: 3, 59: 15, 60: 3.0, 61: 1, 62: 1},\n",
              " '_sh': <module 'IPython.core.shadowns' from '/usr/local/lib/python3.7/dist-packages/IPython/core/shadowns.py'>,\n",
              " 'a': 1,\n",
              " 'add': <function __main__.add>,\n",
              " 'add_number': <function __main__.add_number>,\n",
              " 'avg': 2.8333333333333335,\n",
              " 'b': 2,\n",
              " 'book': '혼자 공부하는 머신러닝',\n",
              " 'book_list': ['프로그래밍 R', '혼자 공부하는 머신러닝'],\n",
              " 'c': 3,\n",
              " 'char': 'd',\n",
              " 'count': 0,\n",
              " 'division': <function __main__.division>,\n",
              " 'docstring': 'content안에 있는 문자를 세는 함수입니다.\\n  \\n  Args:\\n    content(str) : 탐색 문자열\\n    letter(str) : 찾을 문자열\\n\\n  Returns:\\n    int\\n  ',\n",
              " 'exit': <IPython.core.autocall.ZMQExitAutocall at 0x7f7b169f24d0>,\n",
              " 'flattened_list': [10, 20, 30],\n",
              " 'foo': <function __main__.foo>,\n",
              " 'get_ipython': <bound method InteractiveShell.get_ipython of <google.colab._shell.Shell object at 0x7f7b169d50d0>>,\n",
              " 'i': 2,\n",
              " 'letters': ['h', 'e', 'l', 'l', 'o', 'w', 'o', 'r', 'l', 'd'],\n",
              " 'letters2': ['h', 'e', 'l', 'l', 'o', 'w', 'o', 'r', 'l', 'd'],\n",
              " 'mean_and_median': <function __main__.mean_and_median>,\n",
              " 'median': 2.5,\n",
              " 'midpoint': 4,\n",
              " 'multiplication': <function __main__.multiplication>,\n",
              " 'my_list': [[10], [20, 30]],\n",
              " 'name': '과자',\n",
              " 'num': 'B',\n",
              " 'num_dict': {'A': 1, 'B': 2},\n",
              " 'num_tuple': (1, 2, 3, 4),\n",
              " 'prices': [1000, 1500, 2000],\n",
              " 'product_name': ['요구르트', '우유', '과자'],\n",
              " 'quantities': [5, 3, 4],\n",
              " 'quit': <IPython.core.autocall.ZMQExitAutocall at 0x7f7b169f24d0>,\n",
              " 'sales': 8000,\n",
              " 'strings01': 'Hello World',\n",
              " 'students': [1, 2, 3, 4, 5, 6, 7, 8],\n",
              " 'subtraction': <function __main__.subtraction>,\n",
              " 'temp': <function __main__.temp>,\n",
              " 'value': 30,\n",
              " 'value_list': [20, 30],\n",
              " 'value_lists': [1, 1, 2, 3, 5, 5],\n",
              " 'x': 20}"
            ]
          },
          "metadata": {},
          "execution_count": 114
        }
      ]
    }
  ]
}