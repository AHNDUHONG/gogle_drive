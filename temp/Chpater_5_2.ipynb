{
  "nbformat": 4,
  "nbformat_minor": 0,
  "metadata": {
    "colab": {
      "name": "Chpater_5_2.ipynb",
      "provenance": [],
      "collapsed_sections": [],
      "authorship_tag": "ABX9TyPqVo8MjMsItxYskgeX4Q1i",
      "include_colab_link": true
    },
    "kernelspec": {
      "name": "python3",
      "display_name": "Python 3"
    },
    "language_info": {
      "name": "python"
    }
  },
  "cells": [
    {
      "cell_type": "markdown",
      "metadata": {
        "id": "view-in-github",
        "colab_type": "text"
      },
      "source": [
        "<a href=\"https://colab.research.google.com/github/AHNDUHONG/gogle_drive/blob/main/temp/Chpater_5_2.ipynb\" target=\"_parent\"><img src=\"https://colab.research.google.com/assets/colab-badge.svg\" alt=\"Open In Colab\"/></a>"
      ]
    },
    {
      "cell_type": "markdown",
      "source": [
        "# 교차 검증과 그리드 서치\n",
        "- 키워드 : 하이퍼 파라미터 ( 그리드서치 vs 램덤서치)\n",
        "- 데이터가 작을 떄 주로 사용\n",
        "- 하이퍼 파라미터\n",
        "  + max_depth : 3, 정확도가 84%\n",
        "- 결론\n",
        "  + 모르면 디폴드만 쓰자!\n",
        "  + 가성비 (시간 대비 성능 보장 안됨!)"
      ],
      "metadata": {
        "id": "MD5mhpvbM0EP"
      }
    },
    {
      "cell_type": "markdown",
      "source": [
        "# 검증 세트\n",
        "- 테스트 세트 (1회성)\n",
        "- 훈련 데이터를 훈련 데이터 + 검증 데이터로 재 분할"
      ],
      "metadata": {
        "id": "H8Z0CYSIOYZq"
      }
    },
    {
      "cell_type": "markdown",
      "source": [
        "## 현실\n",
        "- 테스트 데이터가 별도로 존재하지 않음!\n",
        "- 전체 데이터 = 훈련 (6) : 검증 (2) : 테스트 (2)\n",
        "  + 테스트 데이터는 모르는 데이터로 생각!"
      ],
      "metadata": {
        "id": "w4vVmlImPMe6"
      }
    },
    {
      "cell_type": "code",
      "source": [
        "import pandas as pd\n",
        "wine = pd.read_csv(\"https://bit.ly/wine_csv_data\")\n",
        "\n",
        "data = wine[['alcohol', 'sugar', 'pH']].to_numpy()\n",
        "target = wine['class'].to_numpy()"
      ],
      "metadata": {
        "id": "lrUrGxOOQfzA"
      },
      "execution_count": 2,
      "outputs": []
    },
    {
      "cell_type": "code",
      "source": [
        "from sklearn.model_selection import train_test_split\n",
        "\n",
        "train_input, test_input, train_target, test_target = train_test_split(\n",
        "    data, target, test_size = 0.2, random_state = 42\n",
        ")"
      ],
      "metadata": {
        "id": "sKP3g00JQi5x"
      },
      "execution_count": 3,
      "outputs": []
    },
    {
      "cell_type": "code",
      "source": [
        "sub_input, val_input, sub_target, val_target = train_test_split(\n",
        "    train_input, train_target, test_size = 0.2, random_state = 42\n",
        ")"
      ],
      "metadata": {
        "id": "dP6BSZsUR1BY"
      },
      "execution_count": 4,
      "outputs": []
    },
    {
      "cell_type": "code",
      "source": [
        "print(sub_input.shape, val_input.shape)"
      ],
      "metadata": {
        "colab": {
          "base_uri": "https://localhost:8080/"
        },
        "id": "ohfqqUIxSdfp",
        "outputId": "a93c0a13-de38-4b6c-ccb4-94d93999eabd"
      },
      "execution_count": 5,
      "outputs": [
        {
          "output_type": "stream",
          "name": "stdout",
          "text": [
            "(4157, 3) (1040, 3)\n"
          ]
        }
      ]
    },
    {
      "cell_type": "markdown",
      "source": [
        "# 모델 만든 후 평가"
      ],
      "metadata": {
        "id": "L80AWHSZROh2"
      }
    },
    {
      "cell_type": "code",
      "source": [
        "from sklearn.tree import DecisionTreeClassifier\n",
        "dt = DecisionTreeClassifier(random_state = 42)\n",
        "dt.fit(sub_input, sub_target)\n",
        "print(dt.score(sub_input, sub_target))\n",
        "print(dt.score(val_input, val_target))"
      ],
      "metadata": {
        "colab": {
          "base_uri": "https://localhost:8080/"
        },
        "id": "Q_M780oYSiz1",
        "outputId": "0f1f641f-9f31-46d0-8649-603d6a22224c"
      },
      "execution_count": 6,
      "outputs": [
        {
          "output_type": "stream",
          "name": "stdout",
          "text": [
            "0.9971133028626413\n",
            "0.864423076923077\n"
          ]
        }
      ]
    },
    {
      "cell_type": "markdown",
      "source": [
        "# 교차 검증\n",
        "- : 훈련 세트에서 무작위로 검증 세트를 각각 다르게 떼어 내어 평가하는 과정을 여러 번 반복\n",
        "- 교차 검증의 목적 : 좋은 모델이 만들어진다!\n",
        "  + 좋은 모델 != 성능 좋은 모델\n",
        "  + 좋은 모델 = 과대적합이 아닌 모델 = 모형의 오차가 적은 모델 = 안정적인 모델\n",
        "- 교재 245p\n",
        "  + 모델평가 1 : 90% (소요시간 : 1시간)\n",
        "  + 모델평가 2 : 85%\n",
        "  + 모델평가 3 : 80%\n",
        "- 단점 : 시간이 오래 걸림"
      ],
      "metadata": {
        "id": "dM88sfyPS6k3"
      }
    },
    {
      "cell_type": "markdown",
      "source": [
        "# 교차 검증 함수\n"
      ],
      "metadata": {
        "id": "RxTxRx9OTWRY"
      }
    },
    {
      "cell_type": "code",
      "source": [
        "from sklearn.model_selection import cross_validate # cross_validate 교차 검증 함수\n",
        "scores = cross_validate(dt, train_input, train_target)\n",
        "print(scores)"
      ],
      "metadata": {
        "colab": {
          "base_uri": "https://localhost:8080/"
        },
        "id": "uoT6jLmSTZMK",
        "outputId": "c49cd3e4-8dad-4fd6-987f-fe8db61fde1f"
      },
      "execution_count": 7,
      "outputs": [
        {
          "output_type": "stream",
          "name": "stdout",
          "text": [
            "{'fit_time': array([0.02901554, 0.01234174, 0.01105666, 0.01976061, 0.01070189]), 'score_time': array([0.00157857, 0.00140238, 0.00126791, 0.00145054, 0.00131822]), 'test_score': array([0.86923077, 0.84615385, 0.87680462, 0.84889317, 0.83541867])}\n"
          ]
        }
      ]
    },
    {
      "cell_type": "markdown",
      "source": [
        "- 최종점수 평균 구하기"
      ],
      "metadata": {
        "id": "6tziJJ5vTyKL"
      }
    },
    {
      "cell_type": "code",
      "source": [
        "import numpy as np\n",
        "print(np.mean(scores['test_score'])) # test_score = 위에서 검증한 폴드의 점수 **혼동주의**"
      ],
      "metadata": {
        "colab": {
          "base_uri": "https://localhost:8080/"
        },
        "id": "MrgbJmJzTz67",
        "outputId": "faa2645c-625a-45c4-f70e-876e97d0e05a"
      },
      "execution_count": 8,
      "outputs": [
        {
          "output_type": "stream",
          "name": "stdout",
          "text": [
            "0.855300214703487\n"
          ]
        }
      ]
    },
    {
      "cell_type": "markdown",
      "source": [
        "- 훈련 세트 섞은 후, 10-폴드 교차검증"
      ],
      "metadata": {
        "id": "fAgSIRAAUH1A"
      }
    },
    {
      "cell_type": "code",
      "source": [
        "from sklearn.model_selection import StratifiedKFold\n",
        "splitter = StratifiedKFold(n_splits = 10, shuffle = True, random_state = 42) # n_splits 몇 폴드 교차 검증을 할지\n",
        "scores = cross_validate(dt, train_input, train_target, cv = splitter) # cv = splitter 최적의 분할과 최적의 랜덤 분할을 선택하는 랜덤분할\n",
        "\n",
        "print(np.mean(scores['test_score']))"
      ],
      "metadata": {
        "colab": {
          "base_uri": "https://localhost:8080/"
        },
        "id": "DNN4_AxVUM09",
        "outputId": "38cb0022-5525-4413-9a98-b41bd03be1ea"
      },
      "execution_count": 9,
      "outputs": [
        {
          "output_type": "stream",
          "name": "stdout",
          "text": [
            "0.8574181117533719\n"
          ]
        }
      ]
    },
    {
      "cell_type": "markdown",
      "source": [
        "# 하이퍼파라미터 튜닝\n",
        "- 하이퍼파라미터란 : 모델이 학습할 수 없어서 사용자가 지정해야만 하는 파라미터\n",
        "- 사이킷런과 같은 머신러닝 라이브러리를 사용할 때 이런 하이퍼파라미터는 모두 class나 method의 매개변수로 표현\n",
        "- 랜덤 서치 사용\n",
        "- 자동으로 잡아주는 라이브러리들이 등장하기 시작함\n",
        "  + hyperopt\n"
      ],
      "metadata": {
        "id": "NvjxsQdeaDKr"
      }
    },
    {
      "cell_type": "code",
      "source": [
        "- GridSearchCV class는 하이퍼파라미터 탐색과 교차 검증을 한 번에 수행"
      ],
      "metadata": {
        "colab": {
          "base_uri": "https://localhost:8080/",
          "height": 133
        },
        "id": "WIuWTEc4E3Yu",
        "outputId": "66f0a183-19a7-416b-e048-51de03bf6d21"
      },
      "execution_count": 10,
      "outputs": [
        {
          "output_type": "error",
          "ename": "SyntaxError",
          "evalue": "ignored",
          "traceback": [
            "\u001b[0;36m  File \u001b[0;32m\"<ipython-input-10-258156bef445>\"\u001b[0;36m, line \u001b[0;32m1\u001b[0m\n\u001b[0;31m    - GridSearchCV class는 하이퍼파라미터 탐색과 교차 검증을 한 번에 수행\u001b[0m\n\u001b[0m                        ^\u001b[0m\n\u001b[0;31mSyntaxError\u001b[0m\u001b[0;31m:\u001b[0m invalid syntax\n"
          ]
        }
      ]
    },
    {
      "cell_type": "code",
      "source": [
        "%%time\n",
        "\n",
        "from sklearn.model_selection import GridSearchCV\n",
        "params = {\n",
        "    'min_impurity_decrease' : [0.0001, 0.0002, 0.0003, 0.0004, 0.0005],\n",
        "    'max_depth' : [3, 4, 5, 6, 7]\n",
        "}\n",
        "# dt = DecisionTreeClassifier(random_state = 42)\n",
        "gs = GridSearchCV(DecisionTreeClassifier(random_state = 42), params, n_jobs = -1)\n",
        "gs.fit(train_input, train_target)\n",
        "dt = gs.best_estimator_ # best_estimator는 훈련이 끝나면 25개의 모델중에서 검증 점수가 가장 높은 모델의 매개변수 조합으로 전체 훈련 세트에서 자동으로 다시 모델을 훈련\n",
        "print(dt)\n",
        "print(dt.score(train_input, train_target))\n",
        "print(gs.best_params_) # best_params 그리드 서치로 찾은 최적의 매개변수"
      ],
      "metadata": {
        "colab": {
          "base_uri": "https://localhost:8080/"
        },
        "id": "1pQfZNPga8Ce",
        "outputId": "f1883d13-5872-4e4d-97a9-354a622e0399"
      },
      "execution_count": 11,
      "outputs": [
        {
          "output_type": "stream",
          "name": "stdout",
          "text": [
            "DecisionTreeClassifier(max_depth=7, min_impurity_decrease=0.0005,\n",
            "                       random_state=42)\n",
            "0.8830094285164518\n",
            "{'max_depth': 7, 'min_impurity_decrease': 0.0005}\n",
            "CPU times: user 308 ms, sys: 63.9 ms, total: 372 ms\n",
            "Wall time: 4.09 s\n"
          ]
        }
      ]
    },
    {
      "cell_type": "code",
      "source": [
        "print(gs.cv_results_['mean_test_score']) # 각 매개변수에서 수행한 교차 검증의 평균 점수"
      ],
      "metadata": {
        "colab": {
          "base_uri": "https://localhost:8080/"
        },
        "id": "nzW6dHgLdpEY",
        "outputId": "4244f170-81b8-473f-cdea-a90a8a7d5465"
      },
      "execution_count": 12,
      "outputs": [
        {
          "output_type": "stream",
          "name": "stdout",
          "text": [
            "[0.84125583 0.84125583 0.84125583 0.84125583 0.84125583 0.85337806\n",
            " 0.85337806 0.85337806 0.85337806 0.85318557 0.85780355 0.85799604\n",
            " 0.85857352 0.85857352 0.85838102 0.85645721 0.85799678 0.85876675\n",
            " 0.85972866 0.86088306 0.85607093 0.85761031 0.85799511 0.85991893\n",
            " 0.86280466]\n"
          ]
        }
      ]
    },
    {
      "cell_type": "markdown",
      "source": [
        "# 랜덤 서치\n",
        "- p.252. 매개변수 값의 목록을 전달하는 것이 아니라 매개변수를 샘플링 할 수 있도록 확률 분포 객체를 전달."
      ],
      "metadata": {
        "id": "GILchM7ueNDo"
      }
    },
    {
      "cell_type": "code",
      "source": [
        "from scipy.stats import uniform, randint\n",
        "rgen = randint(0, 10)\n",
        "rgen.rvs(10) # rvs 무작위로 표본을 만듬"
      ],
      "metadata": {
        "colab": {
          "base_uri": "https://localhost:8080/"
        },
        "id": "TxGcZkN9eV2g",
        "outputId": "5dd511c3-2bae-4057-d96c-8d0fc8927ca9"
      },
      "execution_count": 17,
      "outputs": [
        {
          "output_type": "execute_result",
          "data": {
            "text/plain": [
              "array([8, 5, 3, 1, 5, 9, 3, 1, 7, 8])"
            ]
          },
          "metadata": {},
          "execution_count": 17
        }
      ]
    },
    {
      "cell_type": "code",
      "source": [
        "np.unique(rgen.rvs(1000), return_counts = True) # return_counts = True 는 중복되지 않는 요소들이 입력 배열에 나타난 회 수를 리턴"
      ],
      "metadata": {
        "colab": {
          "base_uri": "https://localhost:8080/"
        },
        "id": "YDJUqym7eeam",
        "outputId": "354a35cc-a269-4c95-c76d-07f33f7a5797"
      },
      "execution_count": 18,
      "outputs": [
        {
          "output_type": "execute_result",
          "data": {
            "text/plain": [
              "(array([0, 1, 2, 3, 4, 5, 6, 7, 8, 9]),\n",
              " array([ 95, 103, 106, 100,  91, 102, 104,  92,  97, 110]))"
            ]
          },
          "metadata": {},
          "execution_count": 18
        }
      ]
    },
    {
      "cell_type": "code",
      "source": [
        "from sklearn.model_selection import RandomizedSearchCV\n",
        "# p.254\n",
        "params = {\n",
        "    'min_impurity_decrease' : uniform(0.0001, 0.001),\n",
        "    'max_depth' : randint(20,50)\n",
        "}\n",
        "\n",
        "\n",
        "gs = RandomizedSearchCV(DecisionTreeClassifier(random_state = 42), params,\n",
        "                        n_iter = 100, n_jobs = -1, random_state = 42)\n",
        "gs.fit(train_input, train_target)"
      ],
      "metadata": {
        "colab": {
          "base_uri": "https://localhost:8080/"
        },
        "id": "xLJ5ml92evvC",
        "outputId": "f9404a7b-f7c2-4df3-9fc7-273d00bf2acb"
      },
      "execution_count": null,
      "outputs": [
        {
          "output_type": "execute_result",
          "data": {
            "text/plain": [
              "RandomizedSearchCV(estimator=DecisionTreeClassifier(random_state=42),\n",
              "                   n_iter=100, n_jobs=-1,\n",
              "                   param_distributions={'max_depth': <scipy.stats._distn_infrastructure.rv_frozen object at 0x7fb54e9ea550>,\n",
              "                                        'min_impurity_decrease': <scipy.stats._distn_infrastructure.rv_frozen object at 0x7fb54e104390>},\n",
              "                   random_state=42)"
            ]
          },
          "metadata": {},
          "execution_count": 33
        }
      ]
    },
    {
      "cell_type": "code",
      "source": [
        "gs.best_params_ # 최적의 매개변수 조합 출력"
      ],
      "metadata": {
        "colab": {
          "base_uri": "https://localhost:8080/"
        },
        "id": "cnsQF_MmfwPE",
        "outputId": "aa39d896-4c74-4778-bed1-9e7bcdea8f1b"
      },
      "execution_count": null,
      "outputs": [
        {
          "output_type": "execute_result",
          "data": {
            "text/plain": [
              "{'max_depth': 29, 'min_impurity_decrease': 0.000437615171403628}"
            ]
          },
          "metadata": {},
          "execution_count": 34
        }
      ]
    }
  ]
}